{
 "cells": [
  {
   "cell_type": "markdown",
   "metadata": {
    "colab_type": "text",
    "id": "qT1_7WeXMqcG"
   },
   "source": [
    "# Mask RCNN Training - Watermelon\n",
    "\n",
    "Use this notebook to train the model in Google Colabs.\n",
    "Save the history and model weights for use in local evaluation and prediciton. \n",
    "\n",
    "This script was adapted from the [Matterport Balloons Example](https://github.com/matterport/Mask_RCNN/tree/master/samples/balloon)\n",
    "\n",
    "Images were annotated using the online VGG Image Annotator [(VIA)](http://www.robots.ox.ac.uk/~vgg/software/via/via.html)"
   ]
  },
  {
   "cell_type": "markdown",
   "metadata": {
    "colab_type": "text",
    "id": "9LJlvDUIM40S"
   },
   "source": [
    "## Load Mask RCNN into Google Colab"
   ]
  },
  {
   "cell_type": "code",
   "execution_count": 2,
   "metadata": {
    "colab": {
     "base_uri": "https://localhost:8080/",
     "height": 105
    },
    "colab_type": "code",
    "id": "qQ3TkVnPUTXW",
    "outputId": "6ce462a6-d4db-4704-acb7-8dae81b2fb7c"
   },
   "outputs": [
    {
     "name": "stdout",
     "output_type": "stream",
     "text": [
      "Cloning into 'Mask_RCNN'...\n",
      "remote: Enumerating objects: 956, done.\u001b[K\n",
      "remote: Total 956 (delta 0), reused 0 (delta 0), pack-reused 956\u001b[K\n",
      "Receiving objects: 100% (956/956), 111.84 MiB | 29.85 MiB/s, done.\n",
      "Resolving deltas: 100% (569/569), done.\n"
     ]
    }
   ],
   "source": [
    "!git clone https://github.com/matterport/Mask_RCNN"
   ]
  },
  {
   "cell_type": "markdown",
   "metadata": {
    "colab_type": "text",
    "id": "p_ZklvupM_ST"
   },
   "source": [
    "## Set up the GPU Environment\n",
    "In Colabs go to:  \n",
    "Edit > Notebook Settings  \n",
    "Set the hardware accelerator to 'GPU' and reload the notebook. "
   ]
  },
  {
   "cell_type": "code",
   "execution_count": 3,
   "metadata": {
    "colab": {
     "base_uri": "https://localhost:8080/",
     "height": 72
    },
    "colab_type": "code",
    "id": "QDyJKAJZmq8M",
    "outputId": "9e9e83a5-20bb-404b-d3a0-57b6112e39dc"
   },
   "outputs": [
    {
     "name": "stdout",
     "output_type": "stream",
     "text": [
      "Found GPU at: /device:GPU:0\n"
     ]
    },
    {
     "data": {
      "text/plain": [
       "'\\n#RUN TPU\\n%tensorflow_version 1.x\\nimport tensorflow as tf\\nprint(\"Tensorflow version \" + tf.__version__)\\ntry:\\n  tpu = tf.distribute.cluster_resolver.TPUClusterResolver()  # TPU detection\\n  print(\\'Running on TPU \\', tpu.cluster_spec().as_dict()[\\'worker\\'])\\nexcept ValueError:\\n  raise BaseException(\\'ERROR: Not connected to a TPU runtime; please see the previous cell in this notebook for instructions!\\')\\n'"
      ]
     },
     "execution_count": 3,
     "metadata": {
      "tags": []
     },
     "output_type": "execute_result"
    }
   ],
   "source": [
    "#RUN GPU\n",
    "%tensorflow_version 1.x\n",
    "import tensorflow as tf\n",
    "device_name = tf.test.gpu_device_name()\n",
    "if device_name != '/device:GPU:0':\n",
    "  raise SystemError('GPU device not found')\n",
    "print('Found GPU at: {}'.format(device_name))"
   ]
  },
  {
   "cell_type": "markdown",
   "metadata": {
    "colab_type": "text",
    "id": "L9TR3tlENFbR"
   },
   "source": [
    "## Move into the Mask RCNN directory and install the package"
   ]
  },
  {
   "cell_type": "code",
   "execution_count": 0,
   "metadata": {
    "colab": {},
    "colab_type": "code",
    "id": "wVOX_chSYdSZ"
   },
   "outputs": [],
   "source": [
    "import os\n",
    "os.chdir('Mask_RCNN')"
   ]
  },
  {
   "cell_type": "code",
   "execution_count": 5,
   "metadata": {
    "colab": {
     "base_uri": "https://localhost:8080/",
     "height": 52
    },
    "colab_type": "code",
    "id": "QhqpV4bXY1dp",
    "outputId": "a34186e3-f17e-4491-8d79-5f14328e9781"
   },
   "outputs": [
    {
     "name": "stdout",
     "output_type": "stream",
     "text": [
      "assets\tLICENSE      mrcnn\trequirements.txt  setup.cfg\n",
      "images\tMANIFEST.in  README.md\tsamples\t\t  setup.py\n"
     ]
    }
   ],
   "source": [
    "!ls"
   ]
  },
  {
   "cell_type": "code",
   "execution_count": 6,
   "metadata": {
    "colab": {
     "base_uri": "https://localhost:8080/",
     "height": 976
    },
    "colab_type": "code",
    "id": "q6HXBYhDY-Jn",
    "outputId": "a3854867-e0b9-4d17-f563-35285157c746"
   },
   "outputs": [
    {
     "name": "stdout",
     "output_type": "stream",
     "text": [
      "WARNING:root:Fail load requirements file, so using default ones.\n",
      "running install\n",
      "running bdist_egg\n",
      "running egg_info\n",
      "creating mask_rcnn.egg-info\n",
      "writing mask_rcnn.egg-info/PKG-INFO\n",
      "writing dependency_links to mask_rcnn.egg-info/dependency_links.txt\n",
      "writing top-level names to mask_rcnn.egg-info/top_level.txt\n",
      "writing manifest file 'mask_rcnn.egg-info/SOURCES.txt'\n",
      "reading manifest template 'MANIFEST.in'\n",
      "writing manifest file 'mask_rcnn.egg-info/SOURCES.txt'\n",
      "installing library code to build/bdist.linux-x86_64/egg\n",
      "running install_lib\n",
      "running build_py\n",
      "creating build\n",
      "creating build/lib\n",
      "creating build/lib/mrcnn\n",
      "copying mrcnn/config.py -> build/lib/mrcnn\n",
      "copying mrcnn/__init__.py -> build/lib/mrcnn\n",
      "copying mrcnn/visualize.py -> build/lib/mrcnn\n",
      "copying mrcnn/parallel_model.py -> build/lib/mrcnn\n",
      "copying mrcnn/utils.py -> build/lib/mrcnn\n",
      "copying mrcnn/model.py -> build/lib/mrcnn\n",
      "creating build/bdist.linux-x86_64\n",
      "creating build/bdist.linux-x86_64/egg\n",
      "creating build/bdist.linux-x86_64/egg/mrcnn\n",
      "copying build/lib/mrcnn/config.py -> build/bdist.linux-x86_64/egg/mrcnn\n",
      "copying build/lib/mrcnn/__init__.py -> build/bdist.linux-x86_64/egg/mrcnn\n",
      "copying build/lib/mrcnn/visualize.py -> build/bdist.linux-x86_64/egg/mrcnn\n",
      "copying build/lib/mrcnn/parallel_model.py -> build/bdist.linux-x86_64/egg/mrcnn\n",
      "copying build/lib/mrcnn/utils.py -> build/bdist.linux-x86_64/egg/mrcnn\n",
      "copying build/lib/mrcnn/model.py -> build/bdist.linux-x86_64/egg/mrcnn\n",
      "byte-compiling build/bdist.linux-x86_64/egg/mrcnn/config.py to config.cpython-36.pyc\n",
      "byte-compiling build/bdist.linux-x86_64/egg/mrcnn/__init__.py to __init__.cpython-36.pyc\n",
      "byte-compiling build/bdist.linux-x86_64/egg/mrcnn/visualize.py to visualize.cpython-36.pyc\n",
      "byte-compiling build/bdist.linux-x86_64/egg/mrcnn/parallel_model.py to parallel_model.cpython-36.pyc\n",
      "byte-compiling build/bdist.linux-x86_64/egg/mrcnn/utils.py to utils.cpython-36.pyc\n",
      "byte-compiling build/bdist.linux-x86_64/egg/mrcnn/model.py to model.cpython-36.pyc\n",
      "creating build/bdist.linux-x86_64/egg/EGG-INFO\n",
      "copying mask_rcnn.egg-info/PKG-INFO -> build/bdist.linux-x86_64/egg/EGG-INFO\n",
      "copying mask_rcnn.egg-info/SOURCES.txt -> build/bdist.linux-x86_64/egg/EGG-INFO\n",
      "copying mask_rcnn.egg-info/dependency_links.txt -> build/bdist.linux-x86_64/egg/EGG-INFO\n",
      "copying mask_rcnn.egg-info/top_level.txt -> build/bdist.linux-x86_64/egg/EGG-INFO\n",
      "zip_safe flag not set; analyzing archive contents...\n",
      "creating dist\n",
      "creating 'dist/mask_rcnn-2.1-py3.6.egg' and adding 'build/bdist.linux-x86_64/egg' to it\n",
      "removing 'build/bdist.linux-x86_64/egg' (and everything under it)\n",
      "Processing mask_rcnn-2.1-py3.6.egg\n",
      "Copying mask_rcnn-2.1-py3.6.egg to /usr/local/lib/python3.6/dist-packages\n",
      "Adding mask-rcnn 2.1 to easy-install.pth file\n",
      "\n",
      "Installed /usr/local/lib/python3.6/dist-packages/mask_rcnn-2.1-py3.6.egg\n",
      "Processing dependencies for mask-rcnn==2.1\n",
      "Finished processing dependencies for mask-rcnn==2.1\n"
     ]
    }
   ],
   "source": [
    "!python3 setup.py install;"
   ]
  },
  {
   "cell_type": "markdown",
   "metadata": {
    "colab_type": "text",
    "id": "isg3ROVwNU10"
   },
   "source": [
    "## Load Modules"
   ]
  },
  {
   "cell_type": "code",
   "execution_count": 7,
   "metadata": {
    "colab": {
     "base_uri": "https://localhost:8080/",
     "height": 34
    },
    "colab_type": "code",
    "id": "KQuRm7a5ZCt2",
    "outputId": "b7427004-2015-4c10-cf8c-0d08e0051ac4"
   },
   "outputs": [
    {
     "name": "stderr",
     "output_type": "stream",
     "text": [
      "Using TensorFlow backend.\n"
     ]
    }
   ],
   "source": [
    "import mrcnn\n",
    "import mrcnn.model as modellib\n",
    "from mrcnn.config import Config\n",
    "from mrcnn import utils\n",
    "from mrcnn.model import MaskRCNN\n",
    "\n",
    "import numpy as np\n",
    "import colorsys\n",
    "import argparse\n",
    "import random\n",
    "import os\n",
    "import sys\n",
    "import time\n",
    "import json\n",
    "import skimage\n",
    "import datetime\n",
    "from keras.models import load_model\n"
   ]
  },
  {
   "cell_type": "markdown",
   "metadata": {
    "colab_type": "text",
    "id": "NZT1tDtuNZPp"
   },
   "source": [
    "## Link Google Drive and set up directories"
   ]
  },
  {
   "cell_type": "code",
   "execution_count": null,
   "metadata": {
    "colab": {
     "base_uri": "https://localhost:8080/",
     "height": 125
    },
    "colab_type": "code",
    "id": "bx82nST2ZQ8r",
    "outputId": "38ea5f17-ecff-440f-ac84-b849607abaff",
    "scrolled": true
   },
   "outputs": [],
   "source": [
    "from google.colab import drive\n",
    "drive.mount('/content/drive')"
   ]
  },
  {
   "cell_type": "code",
   "execution_count": 0,
   "metadata": {
    "colab": {},
    "colab_type": "code",
    "id": "sgSrZ5BMa-CP"
   },
   "outputs": [],
   "source": [
    "homedir='/content/drive/My Drive/Colab Data/'\n",
    "datadir=homedir+'/RCNN_test/'"
   ]
  },
  {
   "cell_type": "code",
   "execution_count": 10,
   "metadata": {
    "colab": {
     "base_uri": "https://localhost:8080/",
     "height": 34
    },
    "colab_type": "code",
    "id": "XDgXYJTJc8kD",
    "outputId": "5a32e59e-3d80-42c8-9e62-f1da3db8460b"
   },
   "outputs": [
    {
     "data": {
      "text/plain": [
       "['RCNN_test', 'mask_rcnn_coco.h5', 'watermelon_annot.json', 'saved']"
      ]
     },
     "execution_count": 10,
     "metadata": {
      "tags": []
     },
     "output_type": "execute_result"
    }
   ],
   "source": [
    "#files need to be accessed using os !ls does not work.\n",
    "os.listdir(homedir)"
   ]
  },
  {
   "cell_type": "markdown",
   "metadata": {
    "colab_type": "text",
    "id": "Q_-yptDFNjOK"
   },
   "source": [
    "## Define the Config and Dataset classes"
   ]
  },
  {
   "cell_type": "code",
   "execution_count": 11,
   "metadata": {
    "colab": {
     "base_uri": "https://localhost:8080/",
     "height": 961
    },
    "colab_type": "code",
    "id": "0bHXhRkcdM5H",
    "outputId": "2ae030ac-b0cf-49de-a700-948ff8784496"
   },
   "outputs": [
    {
     "name": "stdout",
     "output_type": "stream",
     "text": [
      "\n",
      "Configurations:\n",
      "BACKBONE                       resnet101\n",
      "BACKBONE_STRIDES               [4, 8, 16, 32, 64]\n",
      "BATCH_SIZE                     2\n",
      "BBOX_STD_DEV                   [0.1 0.1 0.2 0.2]\n",
      "COMPUTE_BACKBONE_SHAPE         None\n",
      "DETECTION_MAX_INSTANCES        100\n",
      "DETECTION_MIN_CONFIDENCE       0.9\n",
      "DETECTION_NMS_THRESHOLD        0.3\n",
      "FPN_CLASSIF_FC_LAYERS_SIZE     1024\n",
      "GPU_COUNT                      1\n",
      "GRADIENT_CLIP_NORM             5.0\n",
      "IMAGES_PER_GPU                 2\n",
      "IMAGE_CHANNEL_COUNT            3\n",
      "IMAGE_MAX_DIM                  1024\n",
      "IMAGE_META_SIZE                14\n",
      "IMAGE_MIN_DIM                  800\n",
      "IMAGE_MIN_SCALE                0\n",
      "IMAGE_RESIZE_MODE              square\n",
      "IMAGE_SHAPE                    [1024 1024    3]\n",
      "LEARNING_MOMENTUM              0.9\n",
      "LEARNING_RATE                  0.001\n",
      "LOSS_WEIGHTS                   {'rpn_class_loss': 1.0, 'rpn_bbox_loss': 1.0, 'mrcnn_class_loss': 1.0, 'mrcnn_bbox_loss': 1.0, 'mrcnn_mask_loss': 1.0}\n",
      "MASK_POOL_SIZE                 14\n",
      "MASK_SHAPE                     [28, 28]\n",
      "MAX_GT_INSTANCES               10\n",
      "MEAN_PIXEL                     [123.7 116.8 103.9]\n",
      "MINI_MASK_SHAPE                (56, 56)\n",
      "NAME                           MaskRCNN_config\n",
      "NUM_CLASSES                    2\n",
      "POOL_SIZE                      7\n",
      "POST_NMS_ROIS_INFERENCE        1000\n",
      "POST_NMS_ROIS_TRAINING         2000\n",
      "PRE_NMS_LIMIT                  6000\n",
      "ROI_POSITIVE_RATIO             0.33\n",
      "RPN_ANCHOR_RATIOS              [0.5, 1, 2]\n",
      "RPN_ANCHOR_SCALES              (32, 64, 128, 256, 512)\n",
      "RPN_ANCHOR_STRIDE              1\n",
      "RPN_BBOX_STD_DEV               [0.1 0.1 0.2 0.2]\n",
      "RPN_NMS_THRESHOLD              0.7\n",
      "RPN_TRAIN_ANCHORS_PER_IMAGE    256\n",
      "STEPS_PER_EPOCH                80\n",
      "TOP_DOWN_PYRAMID_SIZE          256\n",
      "TRAIN_BN                       False\n",
      "TRAIN_ROIS_PER_IMAGE           200\n",
      "USE_MINI_MASK                  True\n",
      "USE_RPN_ROIS                   True\n",
      "VALIDATION_STEPS               50\n",
      "WEIGHT_DECAY                   0.0001\n",
      "\n",
      "\n"
     ]
    }
   ],
   "source": [
    "class myMaskRCNNConfig(Config):\n",
    "    NAME = \"MaskRCNN_config\"\n",
    " \n",
    "    # set the number of GPUs to use along with the number of images\n",
    "    # per GPU\n",
    "    # Colabs provides a 12GB GPU which should fit 2 images\n",
    "    GPU_COUNT = 1\n",
    "    IMAGES_PER_GPU = 2\n",
    " \n",
    "    # number of classes (we would normally add +1 for the background)\n",
    "    # watermelon + BG\n",
    "    NUM_CLASSES = 1+1\n",
    "   \n",
    "    # Number of training steps per epoch (set to number of training samples)\n",
    "    STEPS_PER_EPOCH = 80\n",
    "    \n",
    "    # Learning rate (reduce to stop NaN losses)\n",
    "    LEARNING_RATE=0.001\n",
    "    \n",
    "    # Skip detections with < 90% confidence\n",
    "    DETECTION_MIN_CONFIDENCE = 0.9\n",
    "    \n",
    "    # setting Max ground truth instances\n",
    "    MAX_GT_INSTANCES=10\n",
    "    \n",
    "config = myMaskRCNNConfig()\n",
    "config.display()\n",
    "\n",
    "check=[]\n",
    "class WatermelonDataset(utils.Dataset):\n",
    "\n",
    "    def load_dataset(self, dataset_dir):\n",
    "        \"\"\"\n",
    "        Load the images and annotations from Google Drive\n",
    "        The mask coordinates are save in 'polygons'\n",
    "        \"\"\"\n",
    "\n",
    "        self.add_class(\"watermelon\", 1, \"watermelon\")\n",
    "\n",
    "        # Load annotations\n",
    "        # VGG Image Annotator saves each image in the form:\n",
    "        # { 'filename': '28503151_5b5b7ec140_b.jpg',\n",
    "        #   'regions': {\n",
    "        #       '0': {\n",
    "        #           'region_attributes': {},\n",
    "        #           'shape_attributes': {\n",
    "        #               'all_points_x': [...],\n",
    "        #               'all_points_y': [...],\n",
    "        #               'name': 'polygon'}},\n",
    "        #       ... more regions ...\n",
    "        #   },\n",
    "        #   'size': 100202\n",
    "        # }\n",
    "        # We mostly care about the x and y coordinates of each region\n",
    "        annotations = json.load(open(os.path.join(homedir, \"watermelon_annot.json\")))\n",
    "        annotations = list(annotations.values())  # don't need the dict keys\n",
    "\n",
    "        # The VIA tool saves images in the JSON even if they don't have any\n",
    "        # annotations. Skip unannotated images.\n",
    "        annotations = [a for a in annotations if a['regions']]\n",
    "        for a in annotations:\n",
    "            if a['filename'] in os.listdir(dataset_dir):\n",
    "                # Get the x, y coordinates of points of the polygons that make up\n",
    "                # the outline of each object instance. These are stored in the\n",
    "                # shape_attributes (see json format above)\n",
    "        \n",
    "                if type(a['regions']) is dict:\n",
    "                        polygons = [r['shape_attributes'] for r in a['regions'].values()]\n",
    "                else:\n",
    "                        polygons = [r['shape_attributes'] for r in a['regions']]\n",
    "        \n",
    "                # load_mask() needs the image size to convert polygons to masks.\n",
    "                # Unfortunately, VIA doesn't include it in JSON, so we must read\n",
    "                # the image. This is only managable since the dataset is tiny.\n",
    "                image_path = os.path.join(dataset_dir, a['filename'])\n",
    "                image = skimage.io.imread(image_path)\n",
    "                height, width = image.shape[:2]\n",
    "    \n",
    "                self.add_image(\n",
    "                    \"watermelon\",\n",
    "                    image_id=a['filename'],\n",
    "                    path=image_path,\n",
    "                    width=width, height=height,\n",
    "                    polygons=polygons)\n",
    "\n",
    "    def load_mask(self, image_id):\n",
    "        \"\"\"\n",
    "        Generate instance masks for an image.\n",
    "        \n",
    "        Returns:\n",
    "        \n",
    "        masks: A bool array of shape [height, width, instance count] with\n",
    "               one mask per instance.\n",
    "        \n",
    "        class_ids: a 1D array of class IDs of the instance masks.\n",
    "        \n",
    "        \"\"\"\n",
    "        # If not a melon dataset image, delegate to background class.\n",
    "        image_info = self.image_info[image_id]\n",
    "        if image_info[\"source\"] != \"watermelon\":\n",
    "            print('not a melon!')\n",
    "            return super(self.__class__, self).load_mask(image_id)\n",
    "\n",
    "        # Convert polygons to a bitmap mask of shape\n",
    "        info = self.image_info[image_id]\n",
    "        mask = np.zeros([info[\"height\"], info[\"width\"], len(info[\"polygons\"])],\n",
    "                        dtype=np.uint8)\n",
    "\n",
    "        class_id=[]\n",
    "        for i, p in enumerate(info[\"polygons\"]):\n",
    "            # Get indexes of pixels inside the polygon and set them to 1\n",
    "            rr, cc = skimage.draw.polygon(p['all_points_y'], p['all_points_x'])\n",
    "            mask[rr, cc, i] = 1\n",
    "            class_id.append(self.class_names.index('watermelon'))\n",
    "\n",
    "        # Return mask, and array of class IDs of each instance. Since we have\n",
    "        # one class ID only, we return an array of 1s\n",
    "        return mask, np.ones([mask.shape[-1]], dtype=np.int32)\n",
    "\n",
    "    def image_reference(self, image_id):\n",
    "        \"\"\"Return the path of the image.\"\"\"\n",
    "        info = self.image_info[image_id]\n",
    "        if info[\"source\"] == \"watermelon\":\n",
    "            return info[\"path\"]\n",
    "        else:\n",
    "            super(self.__class__, self).image_reference(image_id)"
   ]
  },
  {
   "cell_type": "markdown",
   "metadata": {
    "colab_type": "text",
    "id": "2mFIBpX7Nusc"
   },
   "source": [
    "# Prepare the Training and Test Sets"
   ]
  },
  {
   "cell_type": "code",
   "execution_count": 12,
   "metadata": {
    "colab": {
     "base_uri": "https://localhost:8080/",
     "height": 52
    },
    "colab_type": "code",
    "id": "Zh84_nepd1XG",
    "outputId": "8a026dfd-116a-4514-89ad-3430a7943fb0"
   },
   "outputs": [
    {
     "name": "stdout",
     "output_type": "stream",
     "text": [
      "Train: 80\n",
      "Test: 20\n"
     ]
    }
   ],
   "source": [
    "# prepare train set\n",
    "train_set = WatermelonDataset()\n",
    "train_set.load_dataset(datadir+'/train')\n",
    "train_set.prepare()\n",
    "print('Train: %d' % len(train_set.image_ids))\n",
    "# prepare test/val set\n",
    "test_set = WatermelonDataset()\n",
    "test_set.load_dataset(datadir+'/test')\n",
    "test_set.prepare()\n",
    "print('Test: %d' % len(test_set.image_ids))"
   ]
  },
  {
   "cell_type": "markdown",
   "metadata": {
    "colab_type": "text",
    "id": "aomxEhkBVLWT"
   },
   "source": [
    "# Prepare the Training Model:"
   ]
  },
  {
   "cell_type": "code",
   "execution_count": 14,
   "metadata": {
    "colab": {
     "base_uri": "https://localhost:8080/",
     "height": 658
    },
    "colab_type": "code",
    "id": "2tgqfZMZd5t1",
    "outputId": "84262b24-81af-4631-f2ac-0ac3a97f81a2"
   },
   "outputs": [
    {
     "name": "stdout",
     "output_type": "stream",
     "text": [
      "Loading Mask R-CNN model...\n",
      "WARNING:tensorflow:From /usr/local/lib/python3.6/dist-packages/keras/backend/tensorflow_backend.py:541: The name tf.placeholder is deprecated. Please use tf.compat.v1.placeholder instead.\n",
      "\n",
      "WARNING:tensorflow:From /usr/local/lib/python3.6/dist-packages/keras/backend/tensorflow_backend.py:66: The name tf.get_default_graph is deprecated. Please use tf.compat.v1.get_default_graph instead.\n",
      "\n",
      "WARNING:tensorflow:From /usr/local/lib/python3.6/dist-packages/keras/backend/tensorflow_backend.py:4432: The name tf.random_uniform is deprecated. Please use tf.random.uniform instead.\n",
      "\n",
      "WARNING:tensorflow:From /usr/local/lib/python3.6/dist-packages/keras/backend/tensorflow_backend.py:2139: The name tf.nn.fused_batch_norm is deprecated. Please use tf.compat.v1.nn.fused_batch_norm instead.\n",
      "\n",
      "WARNING:tensorflow:From /usr/local/lib/python3.6/dist-packages/keras/backend/tensorflow_backend.py:4267: The name tf.nn.max_pool is deprecated. Please use tf.nn.max_pool2d instead.\n",
      "\n",
      "WARNING:tensorflow:From /usr/local/lib/python3.6/dist-packages/keras/backend/tensorflow_backend.py:2239: The name tf.image.resize_nearest_neighbor is deprecated. Please use tf.compat.v1.image.resize_nearest_neighbor instead.\n",
      "\n",
      "WARNING:tensorflow:From /usr/local/lib/python3.6/dist-packages/tensorflow_core/python/ops/array_ops.py:1475: where (from tensorflow.python.ops.array_ops) is deprecated and will be removed in a future version.\n",
      "Instructions for updating:\n",
      "Use tf.where in 2.0, which has the same broadcast rule as np.where\n",
      "WARNING:tensorflow:From /content/Mask_RCNN/mrcnn/model.py:553: The name tf.random_shuffle is deprecated. Please use tf.random.shuffle instead.\n",
      "\n",
      "WARNING:tensorflow:From /content/Mask_RCNN/mrcnn/utils.py:202: The name tf.log is deprecated. Please use tf.math.log instead.\n",
      "\n",
      "WARNING:tensorflow:From /content/Mask_RCNN/mrcnn/model.py:600: calling crop_and_resize_v1 (from tensorflow.python.ops.image_ops_impl) with box_ind is deprecated and will be removed in a future version.\n",
      "Instructions for updating:\n",
      "box_ind is deprecated, use box_indices instead\n",
      "WARNING:tensorflow:From /usr/local/lib/python3.6/dist-packages/keras/backend/tensorflow_backend.py:190: The name tf.get_default_session is deprecated. Please use tf.compat.v1.get_default_session instead.\n",
      "\n",
      "WARNING:tensorflow:From /usr/local/lib/python3.6/dist-packages/keras/backend/tensorflow_backend.py:197: The name tf.ConfigProto is deprecated. Please use tf.compat.v1.ConfigProto instead.\n",
      "\n",
      "WARNING:tensorflow:From /usr/local/lib/python3.6/dist-packages/keras/backend/tensorflow_backend.py:203: The name tf.Session is deprecated. Please use tf.compat.v1.Session instead.\n",
      "\n",
      "WARNING:tensorflow:From /usr/local/lib/python3.6/dist-packages/keras/backend/tensorflow_backend.py:207: The name tf.global_variables is deprecated. Please use tf.compat.v1.global_variables instead.\n",
      "\n",
      "WARNING:tensorflow:From /usr/local/lib/python3.6/dist-packages/keras/backend/tensorflow_backend.py:216: The name tf.is_variable_initialized is deprecated. Please use tf.compat.v1.is_variable_initialized instead.\n",
      "\n",
      "WARNING:tensorflow:From /usr/local/lib/python3.6/dist-packages/keras/backend/tensorflow_backend.py:223: The name tf.variables_initializer is deprecated. Please use tf.compat.v1.variables_initializer instead.\n",
      "\n"
     ]
    }
   ],
   "source": [
    "print(\"Loading Mask R-CNN model...\")\n",
    "model = modellib.MaskRCNN(mode=\"training\", config=config, model_dir='./')\n",
    "\n",
    "#load the weights for COCO\n",
    "model.load_weights(homedir+'/mask_rcnn_coco.h5', \n",
    "                   by_name=True, \n",
    "                   exclude=[\"mrcnn_class_logits\", \"mrcnn_bbox_fc\",  \"mrcnn_bbox\", \"mrcnn_mask\"])"
   ]
  },
  {
   "cell_type": "markdown",
   "metadata": {
    "colab_type": "text",
    "id": "YZgxO4HnVRlg"
   },
   "source": [
    "## Train the Model:\n",
    "If you begin to encounter NaNs in your loss values, try lowering the learning rate by 4 or so times. "
   ]
  },
  {
   "cell_type": "code",
   "execution_count": 15,
   "metadata": {
    "colab": {
     "base_uri": "https://localhost:8080/",
     "height": 1000
    },
    "colab_type": "code",
    "id": "NW59utIre5zI",
    "outputId": "104ac73e-27e2-4f04-a9d1-b0f53ea51295"
   },
   "outputs": [
    {
     "name": "stdout",
     "output_type": "stream",
     "text": [
      "\n",
      "Starting at epoch 0. LR=0.002\n",
      "\n",
      "Checkpoint Path: ./maskrcnn_config20200218T1359/mask_rcnn_maskrcnn_config_{epoch:04d}.h5\n",
      "Selecting layers to train\n",
      "fpn_c5p5               (Conv2D)\n",
      "fpn_c4p4               (Conv2D)\n",
      "fpn_c3p3               (Conv2D)\n",
      "fpn_c2p2               (Conv2D)\n",
      "fpn_p5                 (Conv2D)\n",
      "fpn_p2                 (Conv2D)\n",
      "fpn_p3                 (Conv2D)\n",
      "fpn_p4                 (Conv2D)\n",
      "In model:  rpn_model\n",
      "    rpn_conv_shared        (Conv2D)\n",
      "    rpn_class_raw          (Conv2D)\n",
      "    rpn_bbox_pred          (Conv2D)\n",
      "mrcnn_mask_conv1       (TimeDistributed)\n",
      "mrcnn_mask_bn1         (TimeDistributed)\n",
      "mrcnn_mask_conv2       (TimeDistributed)\n",
      "mrcnn_mask_bn2         (TimeDistributed)\n",
      "mrcnn_class_conv1      (TimeDistributed)\n",
      "mrcnn_class_bn1        (TimeDistributed)\n",
      "mrcnn_mask_conv3       (TimeDistributed)\n",
      "mrcnn_mask_bn3         (TimeDistributed)\n",
      "mrcnn_class_conv2      (TimeDistributed)\n",
      "mrcnn_class_bn2        (TimeDistributed)\n",
      "mrcnn_mask_conv4       (TimeDistributed)\n",
      "mrcnn_mask_bn4         (TimeDistributed)\n",
      "mrcnn_bbox_fc          (TimeDistributed)\n",
      "mrcnn_mask_deconv      (TimeDistributed)\n",
      "mrcnn_class_logits     (TimeDistributed)\n",
      "mrcnn_mask             (TimeDistributed)\n",
      "WARNING:tensorflow:From /usr/local/lib/python3.6/dist-packages/keras/optimizers.py:793: The name tf.train.Optimizer is deprecated. Please use tf.compat.v1.train.Optimizer instead.\n",
      "\n"
     ]
    },
    {
     "name": "stderr",
     "output_type": "stream",
     "text": [
      "/usr/local/lib/python3.6/dist-packages/tensorflow_core/python/framework/indexed_slices.py:424: UserWarning: Converting sparse IndexedSlices to a dense Tensor of unknown shape. This may consume a large amount of memory.\n",
      "  \"Converting sparse IndexedSlices to a dense Tensor of unknown shape. \"\n",
      "/usr/local/lib/python3.6/dist-packages/tensorflow_core/python/framework/indexed_slices.py:424: UserWarning: Converting sparse IndexedSlices to a dense Tensor of unknown shape. This may consume a large amount of memory.\n",
      "  \"Converting sparse IndexedSlices to a dense Tensor of unknown shape. \"\n",
      "/usr/local/lib/python3.6/dist-packages/tensorflow_core/python/framework/indexed_slices.py:424: UserWarning: Converting sparse IndexedSlices to a dense Tensor of unknown shape. This may consume a large amount of memory.\n",
      "  \"Converting sparse IndexedSlices to a dense Tensor of unknown shape. \"\n"
     ]
    },
    {
     "name": "stdout",
     "output_type": "stream",
     "text": [
      "WARNING:tensorflow:From /usr/local/lib/python3.6/dist-packages/keras/backend/tensorflow_backend.py:1033: The name tf.assign_add is deprecated. Please use tf.compat.v1.assign_add instead.\n",
      "\n",
      "WARNING:tensorflow:From /usr/local/lib/python3.6/dist-packages/keras/backend/tensorflow_backend.py:1020: The name tf.assign is deprecated. Please use tf.compat.v1.assign instead.\n",
      "\n"
     ]
    },
    {
     "name": "stderr",
     "output_type": "stream",
     "text": [
      "/usr/local/lib/python3.6/dist-packages/keras/engine/training_generator.py:49: UserWarning: Using a generator with `use_multiprocessing=True` and multiple workers may duplicate your data. Please consider using the `keras.utils.Sequence class.\n",
      "  UserWarning('Using a generator with `use_multiprocessing=True`'\n"
     ]
    },
    {
     "name": "stdout",
     "output_type": "stream",
     "text": [
      "WARNING:tensorflow:From /usr/local/lib/python3.6/dist-packages/keras/callbacks.py:1122: The name tf.summary.merge_all is deprecated. Please use tf.compat.v1.summary.merge_all instead.\n",
      "\n",
      "WARNING:tensorflow:From /usr/local/lib/python3.6/dist-packages/keras/callbacks.py:1125: The name tf.summary.FileWriter is deprecated. Please use tf.compat.v1.summary.FileWriter instead.\n",
      "\n",
      "Epoch 1/15\n",
      "80/80 [==============================] - 172s 2s/step - loss: 1.4619 - rpn_class_loss: 0.0121 - rpn_bbox_loss: 0.3595 - mrcnn_class_loss: 0.1061 - mrcnn_bbox_loss: 0.7476 - mrcnn_mask_loss: 0.2366 - val_loss: 0.8698 - val_rpn_class_loss: 0.0042 - val_rpn_bbox_loss: 0.2365 - val_mrcnn_class_loss: 0.0299 - val_mrcnn_bbox_loss: 0.4140 - val_mrcnn_mask_loss: 0.1852\n",
      "WARNING:tensorflow:From /usr/local/lib/python3.6/dist-packages/keras/callbacks.py:1265: The name tf.Summary is deprecated. Please use tf.compat.v1.Summary instead.\n",
      "\n",
      "Epoch 2/15\n",
      "80/80 [==============================] - 119s 1s/step - loss: 0.7857 - rpn_class_loss: 0.0062 - rpn_bbox_loss: 0.2807 - mrcnn_class_loss: 0.0584 - mrcnn_bbox_loss: 0.2413 - mrcnn_mask_loss: 0.1991 - val_loss: 0.6193 - val_rpn_class_loss: 0.0036 - val_rpn_bbox_loss: 0.2809 - val_mrcnn_class_loss: 0.0136 - val_mrcnn_bbox_loss: 0.1486 - val_mrcnn_mask_loss: 0.1727\n",
      "Epoch 3/15\n",
      "80/80 [==============================] - 121s 2s/step - loss: 0.5686 - rpn_class_loss: 0.0048 - rpn_bbox_loss: 0.2151 - mrcnn_class_loss: 0.0400 - mrcnn_bbox_loss: 0.1364 - mrcnn_mask_loss: 0.1724 - val_loss: 0.6253 - val_rpn_class_loss: 0.0024 - val_rpn_bbox_loss: 0.3106 - val_mrcnn_class_loss: 0.0078 - val_mrcnn_bbox_loss: 0.1432 - val_mrcnn_mask_loss: 0.1613\n",
      "Epoch 4/15\n",
      "80/80 [==============================] - 121s 2s/step - loss: 0.4703 - rpn_class_loss: 0.0051 - rpn_bbox_loss: 0.1866 - mrcnn_class_loss: 0.0274 - mrcnn_bbox_loss: 0.0944 - mrcnn_mask_loss: 0.1568 - val_loss: 0.6977 - val_rpn_class_loss: 0.0031 - val_rpn_bbox_loss: 0.3723 - val_mrcnn_class_loss: 0.0048 - val_mrcnn_bbox_loss: 0.1411 - val_mrcnn_mask_loss: 0.1763\n",
      "Epoch 5/15\n",
      "80/80 [==============================] - 121s 2s/step - loss: 0.4011 - rpn_class_loss: 0.0053 - rpn_bbox_loss: 0.1429 - mrcnn_class_loss: 0.0289 - mrcnn_bbox_loss: 0.0787 - mrcnn_mask_loss: 0.1453 - val_loss: 0.6083 - val_rpn_class_loss: 0.0039 - val_rpn_bbox_loss: 0.2918 - val_mrcnn_class_loss: 0.0122 - val_mrcnn_bbox_loss: 0.1272 - val_mrcnn_mask_loss: 0.1732\n",
      "Epoch 6/15\n",
      "80/80 [==============================] - 120s 2s/step - loss: 0.3716 - rpn_class_loss: 0.0041 - rpn_bbox_loss: 0.1486 - mrcnn_class_loss: 0.0274 - mrcnn_bbox_loss: 0.0626 - mrcnn_mask_loss: 0.1289 - val_loss: 0.5601 - val_rpn_class_loss: 0.0035 - val_rpn_bbox_loss: 0.2836 - val_mrcnn_class_loss: 0.0073 - val_mrcnn_bbox_loss: 0.1128 - val_mrcnn_mask_loss: 0.1528\n",
      "Epoch 7/15\n",
      "80/80 [==============================] - 120s 2s/step - loss: 0.3569 - rpn_class_loss: 0.0042 - rpn_bbox_loss: 0.1570 - mrcnn_class_loss: 0.0252 - mrcnn_bbox_loss: 0.0539 - mrcnn_mask_loss: 0.1166 - val_loss: 0.5482 - val_rpn_class_loss: 0.0037 - val_rpn_bbox_loss: 0.2686 - val_mrcnn_class_loss: 0.0109 - val_mrcnn_bbox_loss: 0.0937 - val_mrcnn_mask_loss: 0.1712\n",
      "Epoch 8/15\n",
      "80/80 [==============================] - 121s 2s/step - loss: 0.3234 - rpn_class_loss: 0.0038 - rpn_bbox_loss: 0.1330 - mrcnn_class_loss: 0.0263 - mrcnn_bbox_loss: 0.0512 - mrcnn_mask_loss: 0.1091 - val_loss: 0.5368 - val_rpn_class_loss: 0.0021 - val_rpn_bbox_loss: 0.2521 - val_mrcnn_class_loss: 0.0086 - val_mrcnn_bbox_loss: 0.0822 - val_mrcnn_mask_loss: 0.1919\n",
      "Epoch 9/15\n",
      "80/80 [==============================] - 120s 2s/step - loss: 0.2767 - rpn_class_loss: 0.0043 - rpn_bbox_loss: 0.1088 - mrcnn_class_loss: 0.0227 - mrcnn_bbox_loss: 0.0415 - mrcnn_mask_loss: 0.0995 - val_loss: 0.5387 - val_rpn_class_loss: 0.0021 - val_rpn_bbox_loss: 0.2438 - val_mrcnn_class_loss: 0.0125 - val_mrcnn_bbox_loss: 0.0972 - val_mrcnn_mask_loss: 0.1830\n",
      "Epoch 10/15\n",
      "80/80 [==============================] - 121s 2s/step - loss: 0.2674 - rpn_class_loss: 0.0030 - rpn_bbox_loss: 0.1052 - mrcnn_class_loss: 0.0225 - mrcnn_bbox_loss: 0.0390 - mrcnn_mask_loss: 0.0977 - val_loss: 0.5850 - val_rpn_class_loss: 0.0025 - val_rpn_bbox_loss: 0.2665 - val_mrcnn_class_loss: 0.0112 - val_mrcnn_bbox_loss: 0.1021 - val_mrcnn_mask_loss: 0.2027\n",
      "Epoch 11/15\n",
      "80/80 [==============================] - 120s 2s/step - loss: 0.2438 - rpn_class_loss: 0.0035 - rpn_bbox_loss: 0.0861 - mrcnn_class_loss: 0.0185 - mrcnn_bbox_loss: 0.0397 - mrcnn_mask_loss: 0.0960 - val_loss: 0.5339 - val_rpn_class_loss: 0.0020 - val_rpn_bbox_loss: 0.2331 - val_mrcnn_class_loss: 0.0098 - val_mrcnn_bbox_loss: 0.1178 - val_mrcnn_mask_loss: 0.1712\n",
      "Epoch 12/15\n",
      "80/80 [==============================] - 120s 2s/step - loss: 0.2288 - rpn_class_loss: 0.0037 - rpn_bbox_loss: 0.0792 - mrcnn_class_loss: 0.0204 - mrcnn_bbox_loss: 0.0365 - mrcnn_mask_loss: 0.0890 - val_loss: 0.6123 - val_rpn_class_loss: 0.0018 - val_rpn_bbox_loss: 0.3032 - val_mrcnn_class_loss: 0.0154 - val_mrcnn_bbox_loss: 0.1009 - val_mrcnn_mask_loss: 0.1910\n",
      "Epoch 13/15\n",
      "80/80 [==============================] - 121s 2s/step - loss: 0.2358 - rpn_class_loss: 0.0039 - rpn_bbox_loss: 0.0931 - mrcnn_class_loss: 0.0228 - mrcnn_bbox_loss: 0.0304 - mrcnn_mask_loss: 0.0855 - val_loss: 0.5370 - val_rpn_class_loss: 0.0031 - val_rpn_bbox_loss: 0.2508 - val_mrcnn_class_loss: 0.0143 - val_mrcnn_bbox_loss: 0.0917 - val_mrcnn_mask_loss: 0.1771\n",
      "Epoch 14/15\n",
      "80/80 [==============================] - 120s 2s/step - loss: 0.2261 - rpn_class_loss: 0.0034 - rpn_bbox_loss: 0.0889 - mrcnn_class_loss: 0.0214 - mrcnn_bbox_loss: 0.0279 - mrcnn_mask_loss: 0.0845 - val_loss: 0.4932 - val_rpn_class_loss: 0.0032 - val_rpn_bbox_loss: 0.1889 - val_mrcnn_class_loss: 0.0152 - val_mrcnn_bbox_loss: 0.0940 - val_mrcnn_mask_loss: 0.1919\n",
      "Epoch 15/15\n",
      "80/80 [==============================] - 121s 2s/step - loss: 0.2043 - rpn_class_loss: 0.0034 - rpn_bbox_loss: 0.0776 - mrcnn_class_loss: 0.0181 - mrcnn_bbox_loss: 0.0247 - mrcnn_mask_loss: 0.0804 - val_loss: 0.5676 - val_rpn_class_loss: 0.0039 - val_rpn_bbox_loss: 0.2353 - val_mrcnn_class_loss: 0.0158 - val_mrcnn_bbox_loss: 0.1200 - val_mrcnn_mask_loss: 0.1925\n"
     ]
    }
   ],
   "source": [
    "# train heads with higher lr to speedup the learning\n",
    "model.train(train_set, test_set, learning_rate=2*config.LEARNING_RATE, epochs=15, layers='heads')\n",
    "history = model.keras_model.history.history"
   ]
  },
  {
   "cell_type": "markdown",
   "metadata": {
    "colab_type": "text",
    "id": "8xCkw9QaN1co"
   },
   "source": [
    "## Check the Output\n",
    "Find the output directory name.  \n",
    "In this example it is: 'maskrcnn_config20200218T1359'"
   ]
  },
  {
   "cell_type": "code",
   "execution_count": 16,
   "metadata": {
    "colab": {
     "base_uri": "https://localhost:8080/",
     "height": 70
    },
    "colab_type": "code",
    "id": "ylWm5b7NeZIn",
    "outputId": "ffbcffbf-05b1-4934-cf92-db579fb91c78"
   },
   "outputs": [
    {
     "name": "stdout",
     "output_type": "stream",
     "text": [
      "assets\timages\t     maskrcnn_config20200218T1359  README.md\t     setup.cfg\n",
      "build\tLICENSE      mask_rcnn.egg-info\t\t   requirements.txt  setup.py\n",
      "dist\tMANIFEST.in  mrcnn\t\t\t   samples\n"
     ]
    }
   ],
   "source": [
    "!ls"
   ]
  },
  {
   "cell_type": "code",
   "execution_count": 0,
   "metadata": {
    "colab": {},
    "colab_type": "code",
    "id": "GrlzT08QKbu_"
   },
   "outputs": [],
   "source": [
    "#Move to the latest model directory\n",
    "os.chdir('./maskrcnn_config20200218T1359')"
   ]
  },
  {
   "cell_type": "markdown",
   "metadata": {
    "colab_type": "text",
    "id": "dTIhonZZVtIU"
   },
   "source": [
    "## Save Model Weights and History in Google Drive:\n",
    "Find the name of the latest model weights to save"
   ]
  },
  {
   "cell_type": "code",
   "execution_count": 19,
   "metadata": {
    "colab": {
     "base_uri": "https://localhost:8080/",
     "height": 318
    },
    "colab_type": "code",
    "id": "knRZdxe1kRzQ",
    "outputId": "9c3c642d-e6af-4915-c93e-28d00ceecfe3"
   },
   "outputs": [
    {
     "name": "stdout",
     "output_type": "stream",
     "text": [
      "total 3.7G\n",
      "-rw-r--r-- 1 root root 245M Feb 18 14:03 mask_rcnn_maskrcnn_config_0001.h5\n",
      "-rw-r--r-- 1 root root 245M Feb 18 14:05 mask_rcnn_maskrcnn_config_0002.h5\n",
      "-rw-r--r-- 1 root root 245M Feb 18 14:07 mask_rcnn_maskrcnn_config_0003.h5\n",
      "-rw-r--r-- 1 root root 245M Feb 18 14:09 mask_rcnn_maskrcnn_config_0004.h5\n",
      "-rw-r--r-- 1 root root 245M Feb 18 14:11 mask_rcnn_maskrcnn_config_0005.h5\n",
      "-rw-r--r-- 1 root root 245M Feb 18 14:14 mask_rcnn_maskrcnn_config_0006.h5\n",
      "-rw-r--r-- 1 root root 245M Feb 18 14:16 mask_rcnn_maskrcnn_config_0007.h5\n",
      "-rw-r--r-- 1 root root 245M Feb 18 14:18 mask_rcnn_maskrcnn_config_0008.h5\n",
      "-rw-r--r-- 1 root root 245M Feb 18 14:20 mask_rcnn_maskrcnn_config_0009.h5\n",
      "-rw-r--r-- 1 root root 245M Feb 18 14:22 mask_rcnn_maskrcnn_config_0010.h5\n",
      "-rw-r--r-- 1 root root 245M Feb 18 14:24 mask_rcnn_maskrcnn_config_0011.h5\n",
      "-rw-r--r-- 1 root root 245M Feb 18 14:26 mask_rcnn_maskrcnn_config_0012.h5\n",
      "-rw-r--r-- 1 root root 245M Feb 18 14:28 mask_rcnn_maskrcnn_config_0013.h5\n",
      "-rw-r--r-- 1 root root 245M Feb 18 14:30 mask_rcnn_maskrcnn_config_0014.h5\n",
      "-rw-r--r-- 1 root root  37M Feb 18 14:32 events.out.tfevents.1582034399.368e6ce3f852\n",
      "-rw-r--r-- 1 root root 245M Feb 18 14:32 mask_rcnn_maskrcnn_config_0015.h5\n"
     ]
    }
   ],
   "source": [
    "!ls -lhrt"
   ]
  },
  {
   "cell_type": "code",
   "execution_count": 20,
   "metadata": {
    "colab": {
     "base_uri": "https://localhost:8080/",
     "height": 34
    },
    "colab_type": "code",
    "id": "sfI0JFoqgDFO",
    "outputId": "ec5cc6f6-87e1-4f10-c6f1-c2f744c9474e"
   },
   "outputs": [
    {
     "name": "stdout",
     "output_type": "stream",
     "text": [
      "Save directory exists!\n"
     ]
    }
   ],
   "source": [
    "now_str='20200218T1359'\n",
    "\n",
    "try:\n",
    "  os.makedirs(homedir+'saved')\n",
    "except:\n",
    "  print('Save directory exists!')\n",
    "\n",
    "weights_fname =homedir+'saved/weights_watermelon_'+now_str+'.h5'\n",
    "history_fname =homedir+'saved/history_watermelon_'+now_str+'.json'\n",
    "\n",
    "model.keras_model.save_weights(weights_fname)\n",
    "\n",
    "with open(history_fname,\"w\") as f:\n",
    "   f.write(json.dumps(history))"
   ]
  }
 ],
 "metadata": {
  "accelerator": "GPU",
  "colab": {
   "collapsed_sections": [],
   "name": "melon_maskRCNN_colab_train.ipynb",
   "provenance": []
  },
  "kernelspec": {
   "display_name": "Python 3",
   "language": "python",
   "name": "python3"
  },
  "language_info": {
   "codemirror_mode": {
    "name": "ipython",
    "version": 3
   },
   "file_extension": ".py",
   "mimetype": "text/x-python",
   "name": "python",
   "nbconvert_exporter": "python",
   "pygments_lexer": "ipython3",
   "version": "3.7.4"
  }
 },
 "nbformat": 4,
 "nbformat_minor": 1
}
