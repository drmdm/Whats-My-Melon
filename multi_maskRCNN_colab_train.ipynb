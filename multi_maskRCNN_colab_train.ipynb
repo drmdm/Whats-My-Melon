{
 "cells": [
  {
   "cell_type": "markdown",
   "metadata": {
    "colab_type": "text",
    "id": "qT1_7WeXMqcG"
   },
   "source": [
    "# Mask RCNN Training - Multi-class\n",
    "\n",
    "Building upon the single class watermelon model [here](./maskRCNN_colab_train.ipynb), this notebook extends to three types of melon: Watermelon, Canteloupe and Honeydew. \n",
    "\n",
    "Due to the similar size and shape of the melons, correct classification is tricky and at the moment this is still a work in progress (This is the third iteration).\n",
    "\n",
    "Changes from the single class:\n",
    "1. The Dataset class (MelonDataset) has been extended to include the Canteloupe and Honeydew classes.\n",
    "2. The myMaskRCNNConfig has been changed in an attempt to improve the rate of detection on the prediction set of images. The reasons for each value are commented in the code below with the overall aim of increasing the number of potential detections then filtering at prediction using the detection confidence.\n",
    "  * DETECTION_MIN_CONFIDENCE = 0.5  \n",
    "  * MAX_GT_INSTANCES=50\n",
    "  * POST_NMS_ROIS_TRAINING = 3000\n",
    "  * POST_NMS_ROIS_INFERENCE = 2000  \n",
    "  * RPN_NMS_THRESHOLD = 0.8\n",
    "  * RPN_TRAIN_ANCHORS_PER_IMAGE = 512 \n",
    "3. Used a lower learning rate and increased the number of training epochs to try to help the model fit. \n",
    "\n",
    "Use this notebook to train the model and save the history and model weights for use in local evaluation and prediciton. "
   ]
  },
  {
   "cell_type": "markdown",
   "metadata": {
    "colab_type": "text",
    "id": "9LJlvDUIM40S"
   },
   "source": [
    "## Load Mask RCNN into Google Colab"
   ]
  },
  {
   "cell_type": "code",
   "execution_count": 0,
   "metadata": {
    "colab": {
     "base_uri": "https://localhost:8080/",
     "height": 98
    },
    "colab_type": "code",
    "id": "qQ3TkVnPUTXW",
    "outputId": "6d332194-9c00-466b-a9ab-a1c1b347c778"
   },
   "outputs": [
    {
     "name": "stdout",
     "output_type": "stream",
     "text": [
      "Cloning into 'Mask_RCNN'...\n",
      "remote: Enumerating objects: 956, done.\u001b[K\n",
      "remote: Total 956 (delta 0), reused 0 (delta 0), pack-reused 956\u001b[K\n",
      "Receiving objects: 100% (956/956), 111.84 MiB | 10.63 MiB/s, done.\n",
      "Resolving deltas: 100% (570/570), done.\n"
     ]
    }
   ],
   "source": [
    "!git clone https://github.com/matterport/Mask_RCNN"
   ]
  },
  {
   "cell_type": "markdown",
   "metadata": {
    "colab_type": "text",
    "id": "p_ZklvupM_ST"
   },
   "source": [
    "## Set up the GPU Environment"
   ]
  },
  {
   "cell_type": "code",
   "execution_count": 0,
   "metadata": {
    "colab": {
     "base_uri": "https://localhost:8080/",
     "height": 70
    },
    "colab_type": "code",
    "id": "QDyJKAJZmq8M",
    "outputId": "d8dea83b-9a64-4c47-b7cf-2c9a00929bba"
   },
   "outputs": [
    {
     "name": "stdout",
     "output_type": "stream",
     "text": [
      "Found GPU at: /device:GPU:0\n"
     ]
    },
    {
     "data": {
      "text/plain": [
       "'\\n#RUN TPU\\n%tensorflow_version 1.x\\nimport tensorflow as tf\\nprint(\"Tensorflow version \" + tf.__version__)\\ntry:\\n  tpu = tf.distribute.cluster_resolver.TPUClusterResolver()  # TPU detection\\n  print(\\'Running on TPU \\', tpu.cluster_spec().as_dict()[\\'worker\\'])\\nexcept ValueError:\\n  raise BaseException(\\'ERROR: Not connected to a TPU runtime; please see the previous cell in this notebook for instructions!\\')\\n'"
      ]
     },
     "execution_count": 19,
     "metadata": {
      "tags": []
     },
     "output_type": "execute_result"
    }
   ],
   "source": [
    "#RUN GPU\n",
    "%tensorflow_version 1.x\n",
    "import tensorflow as tf\n",
    "device_name = tf.test.gpu_device_name()\n",
    "if device_name != '/device:GPU:0':\n",
    "  raise SystemError('GPU device not found')\n",
    "print('Found GPU at: {}'.format(device_name))\n",
    "\n",
    "\"\"\"\n",
    "#RUN TPU\n",
    "%tensorflow_version 1.x\n",
    "import tensorflow as tf\n",
    "print(\"Tensorflow version \" + tf.__version__)\n",
    "try:\n",
    "  tpu = tf.distribute.cluster_resolver.TPUClusterResolver()  # TPU detection\n",
    "  print('Running on TPU ', tpu.cluster_spec().as_dict()['worker'])\n",
    "except ValueError:\n",
    "  raise BaseException('ERROR: Not connected to a TPU runtime; please see the previous cell in this notebook for instructions!')\n",
    "\"\"\""
   ]
  },
  {
   "cell_type": "markdown",
   "metadata": {
    "colab_type": "text",
    "id": "L9TR3tlENFbR"
   },
   "source": [
    "## Move into the Mask RCNN directory and install the package"
   ]
  },
  {
   "cell_type": "code",
   "execution_count": 0,
   "metadata": {
    "colab": {},
    "colab_type": "code",
    "id": "wVOX_chSYdSZ"
   },
   "outputs": [],
   "source": [
    "import os\n",
    "os.chdir('Mask_RCNN')"
   ]
  },
  {
   "cell_type": "code",
   "execution_count": 0,
   "metadata": {
    "colab": {
     "base_uri": "https://localhost:8080/",
     "height": 50
    },
    "colab_type": "code",
    "id": "QhqpV4bXY1dp",
    "outputId": "70b3b4b9-f2d8-4fdb-f160-c46e7f64b131"
   },
   "outputs": [
    {
     "name": "stdout",
     "output_type": "stream",
     "text": [
      "assets\tLICENSE      mrcnn\trequirements.txt  setup.cfg\n",
      "images\tMANIFEST.in  README.md\tsamples\t\t  setup.py\n"
     ]
    }
   ],
   "source": [
    "!ls"
   ]
  },
  {
   "cell_type": "code",
   "execution_count": 0,
   "metadata": {
    "colab": {
     "base_uri": "https://localhost:8080/",
     "height": 911
    },
    "colab_type": "code",
    "id": "q6HXBYhDY-Jn",
    "outputId": "bf39e4e5-a08d-46ce-cfd9-b74b26007806"
   },
   "outputs": [
    {
     "name": "stdout",
     "output_type": "stream",
     "text": [
      "WARNING:root:Fail load requirements file, so using default ones.\n",
      "running install\n",
      "running bdist_egg\n",
      "running egg_info\n",
      "creating mask_rcnn.egg-info\n",
      "writing mask_rcnn.egg-info/PKG-INFO\n",
      "writing dependency_links to mask_rcnn.egg-info/dependency_links.txt\n",
      "writing top-level names to mask_rcnn.egg-info/top_level.txt\n",
      "writing manifest file 'mask_rcnn.egg-info/SOURCES.txt'\n",
      "reading manifest template 'MANIFEST.in'\n",
      "writing manifest file 'mask_rcnn.egg-info/SOURCES.txt'\n",
      "installing library code to build/bdist.linux-x86_64/egg\n",
      "running install_lib\n",
      "running build_py\n",
      "creating build\n",
      "creating build/lib\n",
      "creating build/lib/mrcnn\n",
      "copying mrcnn/config.py -> build/lib/mrcnn\n",
      "copying mrcnn/visualize.py -> build/lib/mrcnn\n",
      "copying mrcnn/model.py -> build/lib/mrcnn\n",
      "copying mrcnn/parallel_model.py -> build/lib/mrcnn\n",
      "copying mrcnn/utils.py -> build/lib/mrcnn\n",
      "copying mrcnn/__init__.py -> build/lib/mrcnn\n",
      "creating build/bdist.linux-x86_64\n",
      "creating build/bdist.linux-x86_64/egg\n",
      "creating build/bdist.linux-x86_64/egg/mrcnn\n",
      "copying build/lib/mrcnn/config.py -> build/bdist.linux-x86_64/egg/mrcnn\n",
      "copying build/lib/mrcnn/visualize.py -> build/bdist.linux-x86_64/egg/mrcnn\n",
      "copying build/lib/mrcnn/model.py -> build/bdist.linux-x86_64/egg/mrcnn\n",
      "copying build/lib/mrcnn/parallel_model.py -> build/bdist.linux-x86_64/egg/mrcnn\n",
      "copying build/lib/mrcnn/utils.py -> build/bdist.linux-x86_64/egg/mrcnn\n",
      "copying build/lib/mrcnn/__init__.py -> build/bdist.linux-x86_64/egg/mrcnn\n",
      "byte-compiling build/bdist.linux-x86_64/egg/mrcnn/config.py to config.cpython-36.pyc\n",
      "byte-compiling build/bdist.linux-x86_64/egg/mrcnn/visualize.py to visualize.cpython-36.pyc\n",
      "byte-compiling build/bdist.linux-x86_64/egg/mrcnn/model.py to model.cpython-36.pyc\n",
      "byte-compiling build/bdist.linux-x86_64/egg/mrcnn/parallel_model.py to parallel_model.cpython-36.pyc\n",
      "byte-compiling build/bdist.linux-x86_64/egg/mrcnn/utils.py to utils.cpython-36.pyc\n",
      "byte-compiling build/bdist.linux-x86_64/egg/mrcnn/__init__.py to __init__.cpython-36.pyc\n",
      "creating build/bdist.linux-x86_64/egg/EGG-INFO\n",
      "copying mask_rcnn.egg-info/PKG-INFO -> build/bdist.linux-x86_64/egg/EGG-INFO\n",
      "copying mask_rcnn.egg-info/SOURCES.txt -> build/bdist.linux-x86_64/egg/EGG-INFO\n",
      "copying mask_rcnn.egg-info/dependency_links.txt -> build/bdist.linux-x86_64/egg/EGG-INFO\n",
      "copying mask_rcnn.egg-info/top_level.txt -> build/bdist.linux-x86_64/egg/EGG-INFO\n",
      "zip_safe flag not set; analyzing archive contents...\n",
      "creating dist\n",
      "creating 'dist/mask_rcnn-2.1-py3.6.egg' and adding 'build/bdist.linux-x86_64/egg' to it\n",
      "removing 'build/bdist.linux-x86_64/egg' (and everything under it)\n",
      "Processing mask_rcnn-2.1-py3.6.egg\n",
      "Removing /usr/local/lib/python3.6/dist-packages/mask_rcnn-2.1-py3.6.egg\n",
      "Copying mask_rcnn-2.1-py3.6.egg to /usr/local/lib/python3.6/dist-packages\n",
      "mask-rcnn 2.1 is already the active version in easy-install.pth\n",
      "\n",
      "Installed /usr/local/lib/python3.6/dist-packages/mask_rcnn-2.1-py3.6.egg\n",
      "Processing dependencies for mask-rcnn==2.1\n",
      "Finished processing dependencies for mask-rcnn==2.1\n"
     ]
    }
   ],
   "source": [
    "!python3 setup.py install;"
   ]
  },
  {
   "cell_type": "markdown",
   "metadata": {
    "colab_type": "text",
    "id": "isg3ROVwNU10"
   },
   "source": [
    "## Load Modules"
   ]
  },
  {
   "cell_type": "code",
   "execution_count": 0,
   "metadata": {
    "colab": {},
    "colab_type": "code",
    "id": "KQuRm7a5ZCt2"
   },
   "outputs": [],
   "source": [
    "import mrcnn\n",
    "import mrcnn.model as modellib\n",
    "from mrcnn.config import Config\n",
    "from mrcnn import utils\n",
    "from mrcnn.model import MaskRCNN\n",
    "from mrcnn import visualize\n",
    "\n",
    "import numpy as np\n",
    "import colorsys\n",
    "import argparse\n",
    "import random\n",
    "import os\n",
    "import sys\n",
    "import time\n",
    "import json\n",
    "import skimage\n",
    "import datetime\n",
    "from keras.models import load_model\n"
   ]
  },
  {
   "cell_type": "markdown",
   "metadata": {
    "colab_type": "text",
    "id": "NZT1tDtuNZPp"
   },
   "source": [
    "## Link Google Drive and set up directories"
   ]
  },
  {
   "cell_type": "code",
   "execution_count": 0,
   "metadata": {
    "colab": {
     "base_uri": "https://localhost:8080/",
     "height": 33
    },
    "colab_type": "code",
    "id": "bx82nST2ZQ8r",
    "outputId": "5ac50561-e291-44e8-88ad-bf173e3976c3"
   },
   "outputs": [
    {
     "name": "stdout",
     "output_type": "stream",
     "text": [
      "Drive already mounted at /content/drive; to attempt to forcibly remount, call drive.mount(\"/content/drive\", force_remount=True).\n"
     ]
    }
   ],
   "source": [
    "from google.colab import drive\n",
    "drive.mount('/content/drive')"
   ]
  },
  {
   "cell_type": "code",
   "execution_count": 0,
   "metadata": {
    "colab": {},
    "colab_type": "code",
    "id": "sgSrZ5BMa-CP"
   },
   "outputs": [],
   "source": [
    "homedir='/content/drive/My Drive/Colab Data/'\n",
    "datadir=homedir+'data/RCNN_test_all/'"
   ]
  },
  {
   "cell_type": "code",
   "execution_count": 0,
   "metadata": {
    "colab": {
     "base_uri": "https://localhost:8080/",
     "height": 33
    },
    "colab_type": "code",
    "id": "XDgXYJTJc8kD",
    "outputId": "b17c040e-937c-4914-8d05-2603afaf2f59"
   },
   "outputs": [
    {
     "data": {
      "text/plain": [
       "['model_data', 'data', 'saved']"
      ]
     },
     "execution_count": 26,
     "metadata": {
      "tags": []
     },
     "output_type": "execute_result"
    }
   ],
   "source": [
    "#files need to be accessed using os !ls does not work.\n",
    "os.listdir(homedir)"
   ]
  },
  {
   "cell_type": "markdown",
   "metadata": {
    "colab_type": "text",
    "id": "Q_-yptDFNjOK"
   },
   "source": [
    "## Define the Config and Dataset classes"
   ]
  },
  {
   "cell_type": "code",
   "execution_count": 0,
   "metadata": {
    "colab": {
     "base_uri": "https://localhost:8080/",
     "height": 862
    },
    "colab_type": "code",
    "id": "0bHXhRkcdM5H",
    "outputId": "820ef9da-0149-4607-a9eb-098a594485ec"
   },
   "outputs": [
    {
     "name": "stdout",
     "output_type": "stream",
     "text": [
      "\n",
      "Configurations:\n",
      "BACKBONE                       resnet101\n",
      "BACKBONE_STRIDES               [4, 8, 16, 32, 64]\n",
      "BATCH_SIZE                     2\n",
      "BBOX_STD_DEV                   [0.1 0.1 0.2 0.2]\n",
      "COMPUTE_BACKBONE_SHAPE         None\n",
      "DETECTION_MAX_INSTANCES        100\n",
      "DETECTION_MIN_CONFIDENCE       0.5\n",
      "DETECTION_NMS_THRESHOLD        0.3\n",
      "FPN_CLASSIF_FC_LAYERS_SIZE     1024\n",
      "GPU_COUNT                      1\n",
      "GRADIENT_CLIP_NORM             5.0\n",
      "IMAGES_PER_GPU                 2\n",
      "IMAGE_CHANNEL_COUNT            3\n",
      "IMAGE_MAX_DIM                  1024\n",
      "IMAGE_META_SIZE                16\n",
      "IMAGE_MIN_DIM                  800\n",
      "IMAGE_MIN_SCALE                0\n",
      "IMAGE_RESIZE_MODE              square\n",
      "IMAGE_SHAPE                    [1024 1024    3]\n",
      "LEARNING_MOMENTUM              0.9\n",
      "LEARNING_RATE                  0.001\n",
      "LOSS_WEIGHTS                   {'rpn_class_loss': 1.0, 'rpn_bbox_loss': 1.0, 'mrcnn_class_loss': 1.0, 'mrcnn_bbox_loss': 1.0, 'mrcnn_mask_loss': 1.0}\n",
      "MASK_POOL_SIZE                 14\n",
      "MASK_SHAPE                     [28, 28]\n",
      "MAX_GT_INSTANCES               50\n",
      "MEAN_PIXEL                     [123.7 116.8 103.9]\n",
      "MINI_MASK_SHAPE                (56, 56)\n",
      "NAME                           MaskRCNN_config\n",
      "NUM_CLASSES                    4\n",
      "POOL_SIZE                      7\n",
      "POST_NMS_ROIS_INFERENCE        2000\n",
      "POST_NMS_ROIS_TRAINING         3000\n",
      "PRE_NMS_LIMIT                  6000\n",
      "ROI_POSITIVE_RATIO             0.33\n",
      "RPN_ANCHOR_RATIOS              [0.5, 1, 2]\n",
      "RPN_ANCHOR_SCALES              (32, 64, 128, 256, 512)\n",
      "RPN_ANCHOR_STRIDE              1\n",
      "RPN_BBOX_STD_DEV               [0.1 0.1 0.2 0.2]\n",
      "RPN_NMS_THRESHOLD              0.8\n",
      "RPN_TRAIN_ANCHORS_PER_IMAGE    512\n",
      "STEPS_PER_EPOCH                240\n",
      "TOP_DOWN_PYRAMID_SIZE          256\n",
      "TRAIN_BN                       False\n",
      "TRAIN_ROIS_PER_IMAGE           200\n",
      "USE_MINI_MASK                  True\n",
      "USE_RPN_ROIS                   True\n",
      "VALIDATION_STEPS               50\n",
      "WEIGHT_DECAY                   0.0001\n",
      "\n",
      "\n"
     ]
    }
   ],
   "source": [
    "class myMaskRCNNConfig(Config):\n",
    "    NAME = \"MaskRCNN_config\"\n",
    " \n",
    "    # set the number of GPUs to use along with the number of images\n",
    "    # per GPU\n",
    "    GPU_COUNT = 1\n",
    "    IMAGES_PER_GPU = 2\n",
    " \n",
    "    # number of classes (we would normally add +1 for the background)\n",
    "    NUM_CLASSES = 3+1\n",
    "   \n",
    "    # Number of training steps per epoch\n",
    "    STEPS_PER_EPOCH = 240\n",
    "    \n",
    "    # Learning rate (reduced to stop NaN losses)\n",
    "    #LEARNING_RATE=0.006\n",
    "    LEARNING_RATE=0.001\n",
    "    \n",
    "    # Skip detections with < 90% confidence\n",
    "    #DETECTION_MIN_CONFIDENCE = 0.9\n",
    "    DETECTION_MIN_CONFIDENCE = 0.5\n",
    "    \n",
    "    # setting Max ground truth instances\n",
    "    #MAX_GT_INSTANCES=10\n",
    "    MAX_GT_INSTANCES=50\n",
    "\n",
    "    #ADDED TO IMPROVE MULTICLASS\n",
    "    # ROIs kept after non-maximum suppression (training and inference)\n",
    "    #Added 1000 to ROIS found. If I can find more potential melons I can filter\n",
    "    #them afterwards. \n",
    "    POST_NMS_ROIS_TRAINING = 3000\n",
    "    POST_NMS_ROIS_INFERENCE = 2000 \n",
    "\n",
    "    # Non-max suppression threshold to filter RPN proposals.\n",
    "    # You can increase this during training to generate more propsals.\n",
    "    #Added 0.1\n",
    "    RPN_NMS_THRESHOLD = 0.8\n",
    "\n",
    "    # How many anchors per image to use for RPN training\n",
    "    # Doubled the number of anchors. Will reduce speed.\n",
    "    RPN_TRAIN_ANCHORS_PER_IMAGE = 512\n",
    "\n",
    "    # Length of square anchor side in pixels\n",
    "    #Added 16 to help find small melons\n",
    "    #Won't work when using COCO Dataset\n",
    "    #RPN_ANCHOR_SCALES = (16, 32, 64, 128, 256, 512)\n",
    "    \n",
    "config = myMaskRCNNConfig()\n",
    "config.display()\n",
    "\n",
    "\"\"\"\n",
    "DEFINE THE TRAINING AND VALIDATION SETS HERE\n",
    "\"\"\"\n",
    "check=[]\n",
    "class MelonDataset(utils.Dataset):\n",
    "\n",
    "    def load_dataset(self, dataset_dir):\n",
    "        \"\"\"Load a subset of the Balloon dataset.\n",
    "        dataset_dir: Root directory of the dataset.\n",
    "        subset: Subset to load: train or val\n",
    "        \"\"\"\n",
    "        # Add classes. We have only one class to add.\n",
    "        #             (source (dataset), class (integer), class name)\n",
    "        self.add_class(\"melon\", 1, \"watermelon\")\n",
    "        self.add_class(\"melon\", 2, \"canteloupe\")\n",
    "        self.add_class(\"melon\", 3, \"honeydew\")\n",
    "      \n",
    "\n",
    "        # Train or validation dataset?\n",
    "        #assert subset in [\"train\", \"test\"]\n",
    "        #dataset_dir = os.path.join(dataset_dir, subset)\n",
    "\n",
    "        # Load annotations\n",
    "        # VGG Image Annotator saves each image in the form:\n",
    "        # { 'filename': '28503151_5b5b7ec140_b.jpg',\n",
    "        #   'regions': {\n",
    "        #       '0': {\n",
    "        #           'region_attributes': {},\n",
    "        #           'shape_attributes': {\n",
    "        #               'all_points_x': [...],\n",
    "        #               'all_points_y': [...],\n",
    "        #               'name': 'polygon'}},\n",
    "        #       ... more regions ...\n",
    "        #   },\n",
    "        #   'size': 100202\n",
    "        # }\n",
    "        # We mostly care about the x and y coordinates of each region\n",
    "        annotations = json.load(open(os.path.join(homedir, \"model_data/all_melon_annot.json\")))\n",
    "        annotations = list(annotations.values())  # don't need the dict keys\n",
    "\n",
    "        # The VIA tool saves images in the JSON even if they don't have any\n",
    "        # annotations. Skip unannotated images.\n",
    "        annotations = [a for a in annotations if a['regions']]\n",
    "        for a in annotations:\n",
    "            if a['filename'] in os.listdir(dataset_dir):\n",
    "                # Get the x, y coordinates of points of the polygons that make up\n",
    "                # the outline of each object instance. These are stored in the\n",
    "                # shape_attributes (see json format above)\n",
    "        \n",
    "                if type(a['regions']) is dict:\n",
    "                        polygons = [r['shape_attributes'] for r in a['regions'].values()]\n",
    "                        melon_type = [s['region_attributes'] for s in a['regions'].values()]\n",
    "                        #print('\\n\\n1:\\n\\n'+polygons)\n",
    "                else:\n",
    "                        polygons = [r['shape_attributes'] for r in a['regions']]\n",
    "                        melon_type = [s['region_attributes'] for s in a['regions']]\n",
    "                        #polygons=polygons[0]\n",
    "                        #print('\\n\\n2:\\n\\n'+str(polygons.items()))\n",
    "\n",
    "    \n",
    "                #polygons=polygons[0]\n",
    "        \n",
    "                # load_mask() needs the image size to convert polygons to masks.\n",
    "                # Unfortunately, VIA doesn't include it in JSON, so we must read\n",
    "                # the image. This is only managable since the dataset is tiny.\n",
    "                image_path = os.path.join(dataset_dir, a['filename'])\n",
    "                image = skimage.io.imread(image_path)\n",
    "                height, width = image.shape[:2]\n",
    "    \n",
    "                self.add_image(\n",
    "                    \"melon\",\n",
    "                    image_id=a['filename'],  # use file name as a unique image id\n",
    "                    path=image_path,\n",
    "                    width=width, height=height,\n",
    "                    polygons=polygons,\n",
    "                    melon_type=melon_type)\n",
    "\n",
    "    def load_mask(self, image_id):\n",
    "        \"\"\"\n",
    "        Generate instance masks for an image.\n",
    "        \n",
    "        Returns:\n",
    "        \n",
    "        masks: A bool array of shape [height, width, instance count] with\n",
    "               one mask per instance.\n",
    "        \n",
    "        class_ids: a 1D array of class IDs of the instance masks.\n",
    "        \n",
    "        \"\"\"\n",
    "        # If not a melon dataset image, delegate to parent class.\n",
    "        image_info = self.image_info[image_id]\n",
    "        if image_info[\"source\"] != \"melon\":\n",
    "            print('not a melon!')\n",
    "            return super(self.__class__, self).load_mask(image_id)\n",
    "\n",
    "        #class_ids = image_info['class_ids']\n",
    "        # Convert polygons to a bitmap mask of shape\n",
    "        # [height, width, instance_count]\n",
    "        info = self.image_info[image_id]\n",
    "        mask = np.zeros([info[\"height\"], info[\"width\"], len(info[\"polygons\"])],\n",
    "                        dtype=np.uint8)\n",
    "        \n",
    "        #if info[\"polygons\"][\"name\"]==\"polyline\":\n",
    "        class_id=[]\n",
    "        #print(len(info[\"polygons\"]))\n",
    "        for i, p in enumerate(info[\"polygons\"]):\n",
    "            # Get indexes of pixels inside the polygon and set them to 1\n",
    "            rr, cc = skimage.draw.polygon(p['all_points_y'], p['all_points_x'])\n",
    "            mask[rr, cc, i] = 1\n",
    "            m_type=(list(info[\"melon_type\"][i]['type'].keys()))\n",
    "            class_id.append(self.class_names.index(m_type[0]))\n",
    "        class_ids = np.array(class_id, dtype=np.int32)\n",
    "        #class_ids = np.array(class_ids, dtype=np.int32)\n",
    "        # Return mask, and array of class IDs of each instance. Since we have\n",
    "        # one class ID only, we return an array of 1s\n",
    "        return mask, class_ids #np.ones([mask.shape[-1]], dtype=np.int32)\n",
    "\n",
    "    def image_reference(self, image_id):\n",
    "        \"\"\"Return the path of the image.\"\"\"\n",
    "        info = self.image_info[image_id]\n",
    "        if info[\"source\"] == \"melon\":\n",
    "            return info[\"path\"]\n",
    "        else:\n",
    "            super(self.__class__, self).image_reference(image_id)"
   ]
  },
  {
   "cell_type": "markdown",
   "metadata": {
    "colab_type": "text",
    "id": "2mFIBpX7Nusc"
   },
   "source": [
    "## Prepare the Training and Test Sets"
   ]
  },
  {
   "cell_type": "code",
   "execution_count": 0,
   "metadata": {
    "colab": {
     "base_uri": "https://localhost:8080/",
     "height": 50
    },
    "colab_type": "code",
    "id": "Zh84_nepd1XG",
    "outputId": "bd63f51d-9a5a-4ff7-9e5a-d49e0841d98e"
   },
   "outputs": [
    {
     "name": "stdout",
     "output_type": "stream",
     "text": [
      "Train: 240\n",
      "Test: 60\n"
     ]
    }
   ],
   "source": [
    "# prepare train set\n",
    "train_set = MelonDataset()\n",
    "train_set.load_dataset(datadir+'train')\n",
    "train_set.prepare()\n",
    "print('Train: %d' % len(train_set.image_ids))\n",
    "# prepare test/val set\n",
    "test_set = MelonDataset()\n",
    "test_set.load_dataset(datadir+'test')\n",
    "test_set.prepare()\n",
    "print('Test: %d' % len(test_set.image_ids))"
   ]
  },
  {
   "cell_type": "code",
   "execution_count": 0,
   "metadata": {
    "colab": {
     "base_uri": "https://localhost:8080/",
     "height": 115
    },
    "colab_type": "code",
    "id": "FUww9wiwVPC0",
    "outputId": "ee4ad8a6-dbf6-4ee9-f17a-34bebcb575f5"
   },
   "outputs": [
    {
     "name": "stdout",
     "output_type": "stream",
     "text": [
      "Image Count: 240\n",
      "Class Count: 4\n",
      "  0. BG                                                \n",
      "  1. watermelon                                        \n",
      "  2. canteloupe                                        \n",
      "  3. honeydew                                          \n"
     ]
    }
   ],
   "source": [
    "print(\"Image Count: {}\".format(len(train_set.image_ids)))\n",
    "print(\"Class Count: {}\".format(train_set.num_classes))\n",
    "for i, info in enumerate(train_set.class_info):\n",
    "    print(\"{:3}. {:50}\".format(i, info['name']))\n"
   ]
  },
  {
   "cell_type": "code",
   "execution_count": 0,
   "metadata": {
    "colab": {
     "base_uri": "https://localhost:8080/",
     "height": 82
    },
    "colab_type": "code",
    "id": "cnRBASncbbZ2",
    "outputId": "0b4c1568-4660-48d7-ff42-9bddb55dc435"
   },
   "outputs": [
    {
     "data": {
      "text/plain": [
       "[{'id': 0, 'name': 'BG', 'source': ''},\n",
       " {'id': 1, 'name': 'watermelon', 'source': 'melon'},\n",
       " {'id': 2, 'name': 'canteloupe', 'source': 'melon'},\n",
       " {'id': 3, 'name': 'honeydew', 'source': 'melon'}]"
      ]
     },
     "execution_count": 30,
     "metadata": {
      "tags": []
     },
     "output_type": "execute_result"
    }
   ],
   "source": [
    "train_set.class_info"
   ]
  },
  {
   "cell_type": "code",
   "execution_count": 0,
   "metadata": {
    "colab": {
     "base_uri": "https://localhost:8080/",
     "height": 533
    },
    "colab_type": "code",
    "id": "2V1rNWSNXQga",
    "outputId": "de87ee20-071f-458d-9241-5d2fc3b9e5b5"
   },
   "outputs": [
    {
     "data": {
      "image/png": "[encoded data removed]",
      "text/plain": [
       "<Figure size 1008x360 with 5 Axes>"
      ]
     },
     "metadata": {
      "tags": []
     },
     "output_type": "display_data"
    },
    {
     "data": {
      "image/png": "[encoded data removed]",
      "text/plain": [
       "<Figure size 1008x360 with 5 Axes>"
      ]
     },
     "metadata": {
      "tags": []
     },
     "output_type": "display_data"
    },
    {
     "data": {
      "image/png": "[encoded data removed]",
      "text/plain": [
       "<Figure size 1008x360 with 5 Axes>"
      ]
     },
     "metadata": {
      "tags": []
     },
     "output_type": "display_data"
    },
    {
     "data": {
      "image/png": "[encoded data removed]",
      "text/plain": [
       "<Figure size 1008x360 with 5 Axes>"
      ]
     },
     "metadata": {
      "tags": []
     },
     "output_type": "display_data"
    }
   ],
   "source": [
    "# Load and display random samples\n",
    "image_ids = np.random.choice(train_set.image_ids, 4)\n",
    "for image_id in image_ids:\n",
    "    image = train_set.load_image(image_id)\n",
    "    mask, class_ids = train_set.load_mask(image_id)\n",
    "    visualize.display_top_masks(image, mask, class_ids, train_set.class_names)"
   ]
  },
  {
   "cell_type": "code",
   "execution_count": 0,
   "metadata": {
    "colab": {
     "base_uri": "https://localhost:8080/",
     "height": 33
    },
    "colab_type": "code",
    "id": "rqU9uPC6Gv6r",
    "outputId": "739740a0-1eed-476d-d616-665a9dc952ab"
   },
   "outputs": [
    {
     "data": {
      "text/plain": [
       "array([3, 3], dtype=int32)"
      ]
     },
     "execution_count": 32,
     "metadata": {
      "tags": []
     },
     "output_type": "execute_result"
    }
   ],
   "source": [
    "mask, class_id = train_set.load_mask(150)\n",
    "class_id"
   ]
  },
  {
   "cell_type": "code",
   "execution_count": 0,
   "metadata": {
    "colab": {
     "base_uri": "https://localhost:8080/",
     "height": 66
    },
    "colab_type": "code",
    "id": "3v7X1AQMW8Gx",
    "outputId": "b409eaf5-fe6f-4bfd-b535-8f075dd14d30"
   },
   "outputs": [
    {
     "name": "stdout",
     "output_type": "stream",
     "text": [
      "assets\timages\t     mask_rcnn.egg-info  requirements.txt  setup.py\n",
      "build\tLICENSE      mrcnn\t\t samples\n",
      "dist\tMANIFEST.in  README.md\t\t setup.cfg\n"
     ]
    }
   ],
   "source": [
    "!ls"
   ]
  },
  {
   "cell_type": "markdown",
   "metadata": {
    "colab_type": "text",
    "id": "aomxEhkBVLWT"
   },
   "source": [
    "# Prepare the Training Model:"
   ]
  },
  {
   "cell_type": "code",
   "execution_count": 0,
   "metadata": {
    "colab": {
     "base_uri": "https://localhost:8080/",
     "height": 391
    },
    "colab_type": "code",
    "id": "2tgqfZMZd5t1",
    "outputId": "0b379478-4e35-4d1e-9f37-0cacd136245b"
   },
   "outputs": [
    {
     "name": "stdout",
     "output_type": "stream",
     "text": [
      "Loading Mask R-CNN model...\n",
      "WARNING:tensorflow:From /tensorflow-1.15.0/python3.6/tensorflow_core/python/ops/array_ops.py:1475: where (from tensorflow.python.ops.array_ops) is deprecated and will be removed in a future version.\n",
      "Instructions for updating:\n",
      "Use tf.where in 2.0, which has the same broadcast rule as np.where\n",
      "WARNING:tensorflow:From /content/Mask_RCNN/mrcnn/model.py:553: The name tf.random_shuffle is deprecated. Please use tf.random.shuffle instead.\n",
      "\n",
      "WARNING:tensorflow:From /content/Mask_RCNN/mrcnn/utils.py:202: The name tf.log is deprecated. Please use tf.math.log instead.\n",
      "\n",
      "WARNING:tensorflow:From /content/Mask_RCNN/mrcnn/model.py:600: calling crop_and_resize_v1 (from tensorflow.python.ops.image_ops_impl) with box_ind is deprecated and will be removed in a future version.\n",
      "Instructions for updating:\n",
      "box_ind is deprecated, use box_indices instead\n",
      "WARNING:tensorflow:From /usr/local/lib/python3.6/dist-packages/keras/backend/tensorflow_backend.py:190: The name tf.get_default_session is deprecated. Please use tf.compat.v1.get_default_session instead.\n",
      "\n",
      "WARNING:tensorflow:From /usr/local/lib/python3.6/dist-packages/keras/backend/tensorflow_backend.py:197: The name tf.ConfigProto is deprecated. Please use tf.compat.v1.ConfigProto instead.\n",
      "\n",
      "WARNING:tensorflow:From /usr/local/lib/python3.6/dist-packages/keras/backend/tensorflow_backend.py:203: The name tf.Session is deprecated. Please use tf.compat.v1.Session instead.\n",
      "\n",
      "WARNING:tensorflow:From /usr/local/lib/python3.6/dist-packages/keras/backend/tensorflow_backend.py:207: The name tf.global_variables is deprecated. Please use tf.compat.v1.global_variables instead.\n",
      "\n",
      "WARNING:tensorflow:From /usr/local/lib/python3.6/dist-packages/keras/backend/tensorflow_backend.py:216: The name tf.is_variable_initialized is deprecated. Please use tf.compat.v1.is_variable_initialized instead.\n",
      "\n",
      "WARNING:tensorflow:From /usr/local/lib/python3.6/dist-packages/keras/backend/tensorflow_backend.py:223: The name tf.variables_initializer is deprecated. Please use tf.compat.v1.variables_initializer instead.\n",
      "\n"
     ]
    }
   ],
   "source": [
    "print(\"Loading Mask R-CNN model...\")\n",
    "model = modellib.MaskRCNN(mode=\"training\", config=config, model_dir='./')\n",
    "\n",
    "#load the weights for COCO\n",
    "model.load_weights(homedir+'model_data/mask_rcnn_coco.h5', \n",
    "                   by_name=True, \n",
    "                   exclude=[\"mrcnn_class_logits\", \"mrcnn_bbox_fc\",  \"mrcnn_bbox\", \"mrcnn_mask\"])"
   ]
  },
  {
   "cell_type": "markdown",
   "metadata": {
    "colab_type": "text",
    "id": "YZgxO4HnVRlg"
   },
   "source": [
    "## Train the Model:"
   ]
  },
  {
   "cell_type": "code",
   "execution_count": 0,
   "metadata": {
    "colab": {
     "base_uri": "https://localhost:8080/",
     "height": 1000
    },
    "colab_type": "code",
    "id": "NW59utIre5zI",
    "outputId": "0362ee8f-7a66-4c10-cd5d-19bd9afdef41"
   },
   "outputs": [
    {
     "name": "stdout",
     "output_type": "stream",
     "text": [
      "\n",
      "Starting at epoch 0. LR=0.001\n",
      "\n",
      "Checkpoint Path: ./maskrcnn_config20200322T2009/mask_rcnn_maskrcnn_config_{epoch:04d}.h5\n",
      "Selecting layers to train\n",
      "fpn_c5p5               (Conv2D)\n",
      "fpn_c4p4               (Conv2D)\n",
      "fpn_c3p3               (Conv2D)\n",
      "fpn_c2p2               (Conv2D)\n",
      "fpn_p5                 (Conv2D)\n",
      "fpn_p2                 (Conv2D)\n",
      "fpn_p3                 (Conv2D)\n",
      "fpn_p4                 (Conv2D)\n",
      "In model:  rpn_model\n",
      "    rpn_conv_shared        (Conv2D)\n",
      "    rpn_class_raw          (Conv2D)\n",
      "    rpn_bbox_pred          (Conv2D)\n",
      "mrcnn_mask_conv1       (TimeDistributed)\n",
      "mrcnn_mask_bn1         (TimeDistributed)\n",
      "mrcnn_mask_conv2       (TimeDistributed)\n",
      "mrcnn_mask_bn2         (TimeDistributed)\n",
      "mrcnn_class_conv1      (TimeDistributed)\n",
      "mrcnn_class_bn1        (TimeDistributed)\n",
      "mrcnn_mask_conv3       (TimeDistributed)\n",
      "mrcnn_mask_bn3         (TimeDistributed)\n",
      "mrcnn_class_conv2      (TimeDistributed)\n",
      "mrcnn_class_bn2        (TimeDistributed)\n",
      "mrcnn_mask_conv4       (TimeDistributed)\n",
      "mrcnn_mask_bn4         (TimeDistributed)\n",
      "mrcnn_bbox_fc          (TimeDistributed)\n",
      "mrcnn_mask_deconv      (TimeDistributed)\n",
      "mrcnn_class_logits     (TimeDistributed)\n",
      "mrcnn_mask             (TimeDistributed)\n",
      "WARNING:tensorflow:From /usr/local/lib/python3.6/dist-packages/keras/optimizers.py:793: The name tf.train.Optimizer is deprecated. Please use tf.compat.v1.train.Optimizer instead.\n",
      "\n"
     ]
    },
    {
     "name": "stderr",
     "output_type": "stream",
     "text": [
      "/tensorflow-1.15.0/python3.6/tensorflow_core/python/framework/indexed_slices.py:424: UserWarning: Converting sparse IndexedSlices to a dense Tensor of unknown shape. This may consume a large amount of memory.\n",
      "  \"Converting sparse IndexedSlices to a dense Tensor of unknown shape. \"\n",
      "/tensorflow-1.15.0/python3.6/tensorflow_core/python/framework/indexed_slices.py:424: UserWarning: Converting sparse IndexedSlices to a dense Tensor of unknown shape. This may consume a large amount of memory.\n",
      "  \"Converting sparse IndexedSlices to a dense Tensor of unknown shape. \"\n",
      "/tensorflow-1.15.0/python3.6/tensorflow_core/python/framework/indexed_slices.py:424: UserWarning: Converting sparse IndexedSlices to a dense Tensor of unknown shape. This may consume a large amount of memory.\n",
      "  \"Converting sparse IndexedSlices to a dense Tensor of unknown shape. \"\n"
     ]
    },
    {
     "name": "stdout",
     "output_type": "stream",
     "text": [
      "WARNING:tensorflow:From /usr/local/lib/python3.6/dist-packages/keras/backend/tensorflow_backend.py:1033: The name tf.assign_add is deprecated. Please use tf.compat.v1.assign_add instead.\n",
      "\n",
      "WARNING:tensorflow:From /usr/local/lib/python3.6/dist-packages/keras/backend/tensorflow_backend.py:1020: The name tf.assign is deprecated. Please use tf.compat.v1.assign instead.\n",
      "\n"
     ]
    },
    {
     "name": "stderr",
     "output_type": "stream",
     "text": [
      "/usr/local/lib/python3.6/dist-packages/keras/engine/training_generator.py:49: UserWarning: Using a generator with `use_multiprocessing=True` and multiple workers may duplicate your data. Please consider using the `keras.utils.Sequence class.\n",
      "  UserWarning('Using a generator with `use_multiprocessing=True`'\n"
     ]
    },
    {
     "name": "stdout",
     "output_type": "stream",
     "text": [
      "WARNING:tensorflow:From /usr/local/lib/python3.6/dist-packages/keras/callbacks.py:1122: The name tf.summary.merge_all is deprecated. Please use tf.compat.v1.summary.merge_all instead.\n",
      "\n",
      "WARNING:tensorflow:From /usr/local/lib/python3.6/dist-packages/keras/callbacks.py:1125: The name tf.summary.FileWriter is deprecated. Please use tf.compat.v1.summary.FileWriter instead.\n",
      "\n",
      "Epoch 1/25\n",
      "240/240 [==============================] - 235s 980ms/step - loss: 1.3630 - rpn_class_loss: 0.0043 - rpn_bbox_loss: 0.2851 - mrcnn_class_loss: 0.3546 - mrcnn_bbox_loss: 0.4196 - mrcnn_mask_loss: 0.2995 - val_loss: 1.0195 - val_rpn_class_loss: 0.0039 - val_rpn_bbox_loss: 0.1974 - val_mrcnn_class_loss: 0.3360 - val_mrcnn_bbox_loss: 0.2663 - val_mrcnn_mask_loss: 0.2159\n",
      "WARNING:tensorflow:From /usr/local/lib/python3.6/dist-packages/keras/callbacks.py:1265: The name tf.Summary is deprecated. Please use tf.compat.v1.Summary instead.\n",
      "\n",
      "Epoch 2/25\n",
      "240/240 [==============================] - 144s 600ms/step - loss: 0.7179 - rpn_class_loss: 0.0029 - rpn_bbox_loss: 0.1781 - mrcnn_class_loss: 0.1953 - mrcnn_bbox_loss: 0.1554 - mrcnn_mask_loss: 0.1862 - val_loss: 0.9064 - val_rpn_class_loss: 0.0027 - val_rpn_bbox_loss: 0.2083 - val_mrcnn_class_loss: 0.2470 - val_mrcnn_bbox_loss: 0.2336 - val_mrcnn_mask_loss: 0.2149\n",
      "Epoch 3/25\n",
      "240/240 [==============================] - 156s 651ms/step - loss: 0.5559 - rpn_class_loss: 0.0027 - rpn_bbox_loss: 0.1351 - mrcnn_class_loss: 0.1418 - mrcnn_bbox_loss: 0.1078 - mrcnn_mask_loss: 0.1685 - val_loss: 0.9156 - val_rpn_class_loss: 0.0039 - val_rpn_bbox_loss: 0.2678 - val_mrcnn_class_loss: 0.2235 - val_mrcnn_bbox_loss: 0.2092 - val_mrcnn_mask_loss: 0.2112\n",
      "Epoch 4/25\n",
      "240/240 [==============================] - 178s 743ms/step - loss: 0.4592 - rpn_class_loss: 0.0028 - rpn_bbox_loss: 0.1230 - mrcnn_class_loss: 0.0983 - mrcnn_bbox_loss: 0.0826 - mrcnn_mask_loss: 0.1524 - val_loss: 0.8437 - val_rpn_class_loss: 0.0030 - val_rpn_bbox_loss: 0.2178 - val_mrcnn_class_loss: 0.2643 - val_mrcnn_bbox_loss: 0.1793 - val_mrcnn_mask_loss: 0.1792\n",
      "Epoch 5/25\n",
      "240/240 [==============================] - 183s 762ms/step - loss: 0.3992 - rpn_class_loss: 0.0025 - rpn_bbox_loss: 0.0991 - mrcnn_class_loss: 0.0879 - mrcnn_bbox_loss: 0.0677 - mrcnn_mask_loss: 0.1419 - val_loss: 0.7701 - val_rpn_class_loss: 0.0030 - val_rpn_bbox_loss: 0.2133 - val_mrcnn_class_loss: 0.1712 - val_mrcnn_bbox_loss: 0.1686 - val_mrcnn_mask_loss: 0.2140\n",
      "Epoch 6/25\n",
      "240/240 [==============================] - 181s 755ms/step - loss: 0.3823 - rpn_class_loss: 0.0021 - rpn_bbox_loss: 0.0979 - mrcnn_class_loss: 0.0786 - mrcnn_bbox_loss: 0.0662 - mrcnn_mask_loss: 0.1374 - val_loss: 0.8395 - val_rpn_class_loss: 0.0030 - val_rpn_bbox_loss: 0.1951 - val_mrcnn_class_loss: 0.2322 - val_mrcnn_bbox_loss: 0.1970 - val_mrcnn_mask_loss: 0.2121\n",
      "Epoch 7/25\n",
      "240/240 [==============================] - 181s 754ms/step - loss: 0.3613 - rpn_class_loss: 0.0021 - rpn_bbox_loss: 0.0891 - mrcnn_class_loss: 0.0703 - mrcnn_bbox_loss: 0.0717 - mrcnn_mask_loss: 0.1281 - val_loss: 0.8266 - val_rpn_class_loss: 0.0027 - val_rpn_bbox_loss: 0.2110 - val_mrcnn_class_loss: 0.2312 - val_mrcnn_bbox_loss: 0.1820 - val_mrcnn_mask_loss: 0.1997\n",
      "Epoch 8/25\n",
      "240/240 [==============================] - 184s 768ms/step - loss: 0.3266 - rpn_class_loss: 0.0023 - rpn_bbox_loss: 0.0774 - mrcnn_class_loss: 0.0650 - mrcnn_bbox_loss: 0.0585 - mrcnn_mask_loss: 0.1234 - val_loss: 0.8304 - val_rpn_class_loss: 0.0032 - val_rpn_bbox_loss: 0.2288 - val_mrcnn_class_loss: 0.2182 - val_mrcnn_bbox_loss: 0.1750 - val_mrcnn_mask_loss: 0.2053\n",
      "Epoch 9/25\n",
      "240/240 [==============================] - 186s 774ms/step - loss: 0.3220 - rpn_class_loss: 0.0024 - rpn_bbox_loss: 0.0806 - mrcnn_class_loss: 0.0601 - mrcnn_bbox_loss: 0.0578 - mrcnn_mask_loss: 0.1212 - val_loss: 0.9610 - val_rpn_class_loss: 0.0037 - val_rpn_bbox_loss: 0.2605 - val_mrcnn_class_loss: 0.2845 - val_mrcnn_bbox_loss: 0.1843 - val_mrcnn_mask_loss: 0.2279\n",
      "Epoch 10/25\n",
      "240/240 [==============================] - 189s 790ms/step - loss: 0.3047 - rpn_class_loss: 0.0022 - rpn_bbox_loss: 0.0739 - mrcnn_class_loss: 0.0588 - mrcnn_bbox_loss: 0.0533 - mrcnn_mask_loss: 0.1165 - val_loss: 0.8099 - val_rpn_class_loss: 0.0032 - val_rpn_bbox_loss: 0.2012 - val_mrcnn_class_loss: 0.2188 - val_mrcnn_bbox_loss: 0.1631 - val_mrcnn_mask_loss: 0.2236\n",
      "Epoch 11/25\n",
      "240/240 [==============================] - 182s 760ms/step - loss: 0.2547 - rpn_class_loss: 0.0020 - rpn_bbox_loss: 0.0592 - mrcnn_class_loss: 0.0438 - mrcnn_bbox_loss: 0.0411 - mrcnn_mask_loss: 0.1085 - val_loss: 0.9025 - val_rpn_class_loss: 0.0050 - val_rpn_bbox_loss: 0.2891 - val_mrcnn_class_loss: 0.2219 - val_mrcnn_bbox_loss: 0.1775 - val_mrcnn_mask_loss: 0.2090\n",
      "Epoch 12/25\n",
      "240/240 [==============================] - 184s 766ms/step - loss: 0.3016 - rpn_class_loss: 0.0022 - rpn_bbox_loss: 0.0812 - mrcnn_class_loss: 0.0514 - mrcnn_bbox_loss: 0.0583 - mrcnn_mask_loss: 0.1085 - val_loss: 0.7859 - val_rpn_class_loss: 0.0027 - val_rpn_bbox_loss: 0.2366 - val_mrcnn_class_loss: 0.1920 - val_mrcnn_bbox_loss: 0.1597 - val_mrcnn_mask_loss: 0.1949\n",
      "Epoch 13/25\n",
      "240/240 [==============================] - 186s 777ms/step - loss: 0.2283 - rpn_class_loss: 0.0021 - rpn_bbox_loss: 0.0534 - mrcnn_class_loss: 0.0382 - mrcnn_bbox_loss: 0.0370 - mrcnn_mask_loss: 0.0976 - val_loss: 0.7813 - val_rpn_class_loss: 0.0041 - val_rpn_bbox_loss: 0.2715 - val_mrcnn_class_loss: 0.1752 - val_mrcnn_bbox_loss: 0.1430 - val_mrcnn_mask_loss: 0.1874\n",
      "Epoch 14/25\n",
      "240/240 [==============================] - 185s 772ms/step - loss: 0.1914 - rpn_class_loss: 0.0018 - rpn_bbox_loss: 0.0391 - mrcnn_class_loss: 0.0334 - mrcnn_bbox_loss: 0.0257 - mrcnn_mask_loss: 0.0914 - val_loss: 0.8653 - val_rpn_class_loss: 0.0031 - val_rpn_bbox_loss: 0.2361 - val_mrcnn_class_loss: 0.2080 - val_mrcnn_bbox_loss: 0.1661 - val_mrcnn_mask_loss: 0.2520\n",
      "Epoch 15/25\n",
      "240/240 [==============================] - 188s 781ms/step - loss: 0.1820 - rpn_class_loss: 0.0018 - rpn_bbox_loss: 0.0341 - mrcnn_class_loss: 0.0320 - mrcnn_bbox_loss: 0.0224 - mrcnn_mask_loss: 0.0916 - val_loss: 0.8578 - val_rpn_class_loss: 0.0039 - val_rpn_bbox_loss: 0.2600 - val_mrcnn_class_loss: 0.2158 - val_mrcnn_bbox_loss: 0.1591 - val_mrcnn_mask_loss: 0.2189\n",
      "Epoch 16/25\n",
      "240/240 [==============================] - 186s 775ms/step - loss: 0.1916 - rpn_class_loss: 0.0018 - rpn_bbox_loss: 0.0444 - mrcnn_class_loss: 0.0289 - mrcnn_bbox_loss: 0.0260 - mrcnn_mask_loss: 0.0904 - val_loss: 0.9460 - val_rpn_class_loss: 0.0034 - val_rpn_bbox_loss: 0.2330 - val_mrcnn_class_loss: 0.2209 - val_mrcnn_bbox_loss: 0.1861 - val_mrcnn_mask_loss: 0.3025\n",
      "Epoch 17/25\n",
      "240/240 [==============================] - 184s 769ms/step - loss: 0.1790 - rpn_class_loss: 0.0020 - rpn_bbox_loss: 0.0385 - mrcnn_class_loss: 0.0290 - mrcnn_bbox_loss: 0.0258 - mrcnn_mask_loss: 0.0838 - val_loss: 0.8402 - val_rpn_class_loss: 0.0040 - val_rpn_bbox_loss: 0.2329 - val_mrcnn_class_loss: 0.2299 - val_mrcnn_bbox_loss: 0.1539 - val_mrcnn_mask_loss: 0.2194\n",
      "Epoch 18/25\n",
      "240/240 [==============================] - 189s 788ms/step - loss: 0.1722 - rpn_class_loss: 0.0016 - rpn_bbox_loss: 0.0348 - mrcnn_class_loss: 0.0266 - mrcnn_bbox_loss: 0.0244 - mrcnn_mask_loss: 0.0848 - val_loss: 0.8530 - val_rpn_class_loss: 0.0030 - val_rpn_bbox_loss: 0.2214 - val_mrcnn_class_loss: 0.2181 - val_mrcnn_bbox_loss: 0.1467 - val_mrcnn_mask_loss: 0.2639\n",
      "Epoch 19/25\n",
      "240/240 [==============================] - 184s 769ms/step - loss: 0.1643 - rpn_class_loss: 0.0016 - rpn_bbox_loss: 0.0293 - mrcnn_class_loss: 0.0271 - mrcnn_bbox_loss: 0.0234 - mrcnn_mask_loss: 0.0829 - val_loss: 0.8489 - val_rpn_class_loss: 0.0036 - val_rpn_bbox_loss: 0.2429 - val_mrcnn_class_loss: 0.2098 - val_mrcnn_bbox_loss: 0.1503 - val_mrcnn_mask_loss: 0.2423\n",
      "Epoch 20/25\n",
      "240/240 [==============================] - 188s 784ms/step - loss: 0.1535 - rpn_class_loss: 0.0016 - rpn_bbox_loss: 0.0278 - mrcnn_class_loss: 0.0245 - mrcnn_bbox_loss: 0.0212 - mrcnn_mask_loss: 0.0784 - val_loss: 0.7831 - val_rpn_class_loss: 0.0035 - val_rpn_bbox_loss: 0.2097 - val_mrcnn_class_loss: 0.1836 - val_mrcnn_bbox_loss: 0.1474 - val_mrcnn_mask_loss: 0.2389\n",
      "Epoch 21/25\n",
      "240/240 [==============================] - 185s 772ms/step - loss: 0.1554 - rpn_class_loss: 0.0015 - rpn_bbox_loss: 0.0303 - mrcnn_class_loss: 0.0251 - mrcnn_bbox_loss: 0.0188 - mrcnn_mask_loss: 0.0797 - val_loss: 0.8564 - val_rpn_class_loss: 0.0045 - val_rpn_bbox_loss: 0.2432 - val_mrcnn_class_loss: 0.2543 - val_mrcnn_bbox_loss: 0.1356 - val_mrcnn_mask_loss: 0.2187\n",
      "Epoch 22/25\n",
      "240/240 [==============================] - 189s 789ms/step - loss: 0.1471 - rpn_class_loss: 0.0015 - rpn_bbox_loss: 0.0304 - mrcnn_class_loss: 0.0220 - mrcnn_bbox_loss: 0.0174 - mrcnn_mask_loss: 0.0758 - val_loss: 0.8796 - val_rpn_class_loss: 0.0047 - val_rpn_bbox_loss: 0.2990 - val_mrcnn_class_loss: 0.2094 - val_mrcnn_bbox_loss: 0.1364 - val_mrcnn_mask_loss: 0.2302\n",
      "Epoch 23/25\n",
      "240/240 [==============================] - 186s 773ms/step - loss: 0.1411 - rpn_class_loss: 0.0015 - rpn_bbox_loss: 0.0245 - mrcnn_class_loss: 0.0232 - mrcnn_bbox_loss: 0.0156 - mrcnn_mask_loss: 0.0763 - val_loss: 0.9080 - val_rpn_class_loss: 0.0039 - val_rpn_bbox_loss: 0.2810 - val_mrcnn_class_loss: 0.2127 - val_mrcnn_bbox_loss: 0.1459 - val_mrcnn_mask_loss: 0.2646\n",
      "Epoch 24/25\n",
      "240/240 [==============================] - 187s 779ms/step - loss: 0.1406 - rpn_class_loss: 0.0014 - rpn_bbox_loss: 0.0242 - mrcnn_class_loss: 0.0233 - mrcnn_bbox_loss: 0.0152 - mrcnn_mask_loss: 0.0765 - val_loss: 0.9062 - val_rpn_class_loss: 0.0038 - val_rpn_bbox_loss: 0.2732 - val_mrcnn_class_loss: 0.2356 - val_mrcnn_bbox_loss: 0.1525 - val_mrcnn_mask_loss: 0.2411\n",
      "Epoch 25/25\n",
      "240/240 [==============================] - 184s 768ms/step - loss: 0.1356 - rpn_class_loss: 0.0013 - rpn_bbox_loss: 0.0238 - mrcnn_class_loss: 0.0241 - mrcnn_bbox_loss: 0.0153 - mrcnn_mask_loss: 0.0711 - val_loss: 0.8746 - val_rpn_class_loss: 0.0041 - val_rpn_bbox_loss: 0.2436 - val_mrcnn_class_loss: 0.2350 - val_mrcnn_bbox_loss: 0.1509 - val_mrcnn_mask_loss: 0.2409\n"
     ]
    }
   ],
   "source": [
    "## train heads with higher lr to speedup the learning\n",
    "#model.train(train_set, test_set, learning_rate=2*config.LEARNING_RATE, epochs=15, layers='heads')\n",
    "#Model above was overfitting so I have increased the no. of epochs and decreased the learning rate.\n",
    "\n",
    "model.train(train_set, test_set, learning_rate=config.LEARNING_RATE, epochs=25, layers='heads')\n",
    "history = model.keras_model.history.history"
   ]
  },
  {
   "cell_type": "markdown",
   "metadata": {
    "colab_type": "text",
    "id": "8xCkw9QaN1co"
   },
   "source": [
    "## Check the Output"
   ]
  },
  {
   "cell_type": "code",
   "execution_count": 0,
   "metadata": {
    "colab": {
     "base_uri": "https://localhost:8080/",
     "height": 66
    },
    "colab_type": "code",
    "id": "ylWm5b7NeZIn",
    "outputId": "de483f22-0a7a-4f3f-b0d4-8c8c76ae2d71"
   },
   "outputs": [
    {
     "name": "stdout",
     "output_type": "stream",
     "text": [
      "assets\timages\t     maskrcnn_config20200322T2009  README.md\t     setup.cfg\n",
      "build\tLICENSE      mask_rcnn.egg-info\t\t   requirements.txt  setup.py\n",
      "dist\tMANIFEST.in  mrcnn\t\t\t   samples\n"
     ]
    }
   ],
   "source": [
    "#Check the current directory\n",
    "!ls"
   ]
  },
  {
   "cell_type": "code",
   "execution_count": 0,
   "metadata": {
    "colab": {},
    "colab_type": "code",
    "id": "GrlzT08QKbu_"
   },
   "outputs": [],
   "source": [
    "#Move to the latest model directory\n",
    "os.chdir('./maskrcnn_config20200322T2009')"
   ]
  },
  {
   "cell_type": "markdown",
   "metadata": {
    "colab_type": "text",
    "id": "dTIhonZZVtIU"
   },
   "source": [
    "## Save Model Weights and History in Google Drive:"
   ]
  },
  {
   "cell_type": "code",
   "execution_count": 0,
   "metadata": {
    "colab": {
     "base_uri": "https://localhost:8080/",
     "height": 456
    },
    "colab_type": "code",
    "id": "knRZdxe1kRzQ",
    "outputId": "3bc494eb-13b8-4eaf-b176-c11a04a25d5d"
   },
   "outputs": [
    {
     "name": "stdout",
     "output_type": "stream",
     "text": [
      "total 6.0G\n",
      "-rw-r--r-- 1 root root 245M Mar 22 20:15 mask_rcnn_maskrcnn_config_0001.h5\n",
      "-rw-r--r-- 1 root root 245M Mar 22 20:17 mask_rcnn_maskrcnn_config_0002.h5\n",
      "-rw-r--r-- 1 root root 245M Mar 22 20:20 mask_rcnn_maskrcnn_config_0003.h5\n",
      "-rw-r--r-- 1 root root 245M Mar 22 20:23 mask_rcnn_maskrcnn_config_0004.h5\n",
      "-rw-r--r-- 1 root root 245M Mar 22 20:26 mask_rcnn_maskrcnn_config_0005.h5\n",
      "-rw-r--r-- 1 root root 245M Mar 22 20:29 mask_rcnn_maskrcnn_config_0006.h5\n",
      "-rw-r--r-- 1 root root 245M Mar 22 20:32 mask_rcnn_maskrcnn_config_0007.h5\n",
      "-rw-r--r-- 1 root root 245M Mar 22 20:35 mask_rcnn_maskrcnn_config_0008.h5\n",
      "-rw-r--r-- 1 root root 245M Mar 22 20:39 mask_rcnn_maskrcnn_config_0009.h5\n",
      "-rw-r--r-- 1 root root 245M Mar 22 20:42 mask_rcnn_maskrcnn_config_0010.h5\n",
      "-rw-r--r-- 1 root root 245M Mar 22 20:45 mask_rcnn_maskrcnn_config_0011.h5\n",
      "-rw-r--r-- 1 root root 245M Mar 22 20:48 mask_rcnn_maskrcnn_config_0012.h5\n",
      "-rw-r--r-- 1 root root 245M Mar 22 20:51 mask_rcnn_maskrcnn_config_0013.h5\n",
      "-rw-r--r-- 1 root root 245M Mar 22 20:54 mask_rcnn_maskrcnn_config_0014.h5\n",
      "-rw-r--r-- 1 root root 245M Mar 22 20:57 mask_rcnn_maskrcnn_config_0015.h5\n",
      "-rw-r--r-- 1 root root 245M Mar 22 21:01 mask_rcnn_maskrcnn_config_0016.h5\n",
      "-rw-r--r-- 1 root root 245M Mar 22 21:04 mask_rcnn_maskrcnn_config_0017.h5\n",
      "-rw-r--r-- 1 root root 245M Mar 22 21:07 mask_rcnn_maskrcnn_config_0018.h5\n",
      "-rw-r--r-- 1 root root 245M Mar 22 21:10 mask_rcnn_maskrcnn_config_0019.h5\n",
      "-rw-r--r-- 1 root root 245M Mar 22 21:13 mask_rcnn_maskrcnn_config_0020.h5\n",
      "-rw-r--r-- 1 root root 245M Mar 22 21:16 mask_rcnn_maskrcnn_config_0021.h5\n",
      "-rw-r--r-- 1 root root 245M Mar 22 21:20 mask_rcnn_maskrcnn_config_0022.h5\n",
      "-rw-r--r-- 1 root root 245M Mar 22 21:23 mask_rcnn_maskrcnn_config_0023.h5\n",
      "-rw-r--r-- 1 root root 245M Mar 22 21:26 mask_rcnn_maskrcnn_config_0024.h5\n",
      "-rw-r--r-- 1 root root  39M Mar 22 21:29 events.out.tfevents.1584907771.2e7065d355cf\n",
      "-rw-r--r-- 1 root root 245M Mar 22 21:29 mask_rcnn_maskrcnn_config_0025.h5\n"
     ]
    }
   ],
   "source": [
    "#Find the name of the weights to load\n",
    "#Where the loss goes to nan - can't use these - wont make a prediction!\n",
    "#See this site for how to solve:\n",
    "#https://github.com/matterport/Mask_RCNN/issues/296#issuecomment-507282957\n",
    "!ls -lhrt"
   ]
  },
  {
   "cell_type": "code",
   "execution_count": 0,
   "metadata": {
    "colab": {
     "base_uri": "https://localhost:8080/",
     "height": 33
    },
    "colab_type": "code",
    "id": "sfI0JFoqgDFO",
    "outputId": "8084f8b3-6cef-4500-85e0-c4bde2bc6ce7"
   },
   "outputs": [
    {
     "name": "stdout",
     "output_type": "stream",
     "text": [
      "Save directory exists!\n"
     ]
    }
   ],
   "source": [
    "#now=datetime.datetime.now()\n",
    "#now_str=now.strftime(\"%Y%m%dT%H%M\")\n",
    "\n",
    "#Use the same time as the model run for consistency\n",
    "now_str='20200322T2009'\n",
    "\n",
    "try:\n",
    "  os.makedirs(homedir+'saved')\n",
    "except:\n",
    "  print('Save directory exists!')\n",
    "\n",
    "weights_fname =homedir+'model_data/weights_all_melon_'+now_str+'.h5'\n",
    "history_fname =homedir+'model_data/history_all_melon_'+now_str+'.json'\n",
    "\n",
    "model.keras_model.save_weights(weights_fname)\n",
    "\n",
    "with open(history_fname,\"w\") as f:\n",
    "   f.write(json.dumps(history))"
   ]
  }
 ],
 "metadata": {
  "accelerator": "GPU",
  "colab": {
   "collapsed_sections": [],
   "name": "multi-melon_maskRCNN_colab_train.ipynb",
   "provenance": []
  },
  "kernelspec": {
   "display_name": "Python 3",
   "language": "python",
   "name": "python3"
  },
  "language_info": {
   "codemirror_mode": {
    "name": "ipython",
    "version": 3
   },
   "file_extension": ".py",
   "mimetype": "text/x-python",
   "name": "python",
   "nbconvert_exporter": "python",
   "pygments_lexer": "ipython3",
   "version": "3.7.4"
  }
 },
 "nbformat": 4,
 "nbformat_minor": 1
}
