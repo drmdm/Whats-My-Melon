{
  "nbformat": 4,
  "nbformat_minor": 0,
  "metadata": {
    "colab": {
      "name": "multi-melon_maskRCNN_colab_train.ipynb",
      "provenance": [],
      "collapsed_sections": []
    },
    "kernelspec": {
      "name": "python3",
      "display_name": "Python 3"
    },
    "accelerator": "GPU"
  },
  "cells": [
    {
      "cell_type": "markdown",
      "metadata": {
        "id": "qT1_7WeXMqcG",
        "colab_type": "text"
      },
      "source": [
        "# Mask RCNN Training\n",
        "\n",
        "USe this notebook to train the model and save the history and model weights for use in local evaluation and prediciton. "
      ]
    },
    {
      "cell_type": "markdown",
      "metadata": {
        "id": "9LJlvDUIM40S",
        "colab_type": "text"
      },
      "source": [
        "## Load Mask RCNN into Google Colab"
      ]
    },
    {
      "cell_type": "code",
      "metadata": {
        "id": "qQ3TkVnPUTXW",
        "colab_type": "code",
        "outputId": "7809e286-358d-4b35-a664-412f3c6020d0",
        "colab": {
          "base_uri": "https://localhost:8080/",
          "height": 98
        }
      },
      "source": [
        "!git clone https://github.com/matterport/Mask_RCNN"
      ],
      "execution_count": 1,
      "outputs": [
        {
          "output_type": "stream",
          "text": [
            "Cloning into 'Mask_RCNN'...\n",
            "remote: Enumerating objects: 956, done.\u001b[K\n",
            "remote: Total 956 (delta 0), reused 0 (delta 0), pack-reused 956\u001b[K\n",
            "Receiving objects: 100% (956/956), 111.84 MiB | 45.41 MiB/s, done.\n",
            "Resolving deltas: 100% (570/570), done.\n"
          ],
          "name": "stdout"
        }
      ]
    },
    {
      "cell_type": "markdown",
      "metadata": {
        "id": "p_ZklvupM_ST",
        "colab_type": "text"
      },
      "source": [
        "## Set up the GPU Environment"
      ]
    },
    {
      "cell_type": "code",
      "metadata": {
        "id": "QDyJKAJZmq8M",
        "colab_type": "code",
        "outputId": "983d55f9-443f-42a9-dd31-64392c775680",
        "colab": {
          "base_uri": "https://localhost:8080/",
          "height": 70
        }
      },
      "source": [
        "#RUN GPU\n",
        "%tensorflow_version 1.x\n",
        "import tensorflow as tf\n",
        "device_name = tf.test.gpu_device_name()\n",
        "if device_name != '/device:GPU:0':\n",
        "  raise SystemError('GPU device not found')\n",
        "print('Found GPU at: {}'.format(device_name))\n",
        "\n",
        "\"\"\"\n",
        "#RUN TPU\n",
        "%tensorflow_version 1.x\n",
        "import tensorflow as tf\n",
        "print(\"Tensorflow version \" + tf.__version__)\n",
        "try:\n",
        "  tpu = tf.distribute.cluster_resolver.TPUClusterResolver()  # TPU detection\n",
        "  print('Running on TPU ', tpu.cluster_spec().as_dict()['worker'])\n",
        "except ValueError:\n",
        "  raise BaseException('ERROR: Not connected to a TPU runtime; please see the previous cell in this notebook for instructions!')\n",
        "\"\"\""
      ],
      "execution_count": 2,
      "outputs": [
        {
          "output_type": "stream",
          "text": [
            "Found GPU at: /device:GPU:0\n"
          ],
          "name": "stdout"
        },
        {
          "output_type": "execute_result",
          "data": {
            "text/plain": [
              "'\\n#RUN TPU\\n%tensorflow_version 1.x\\nimport tensorflow as tf\\nprint(\"Tensorflow version \" + tf.__version__)\\ntry:\\n  tpu = tf.distribute.cluster_resolver.TPUClusterResolver()  # TPU detection\\n  print(\\'Running on TPU \\', tpu.cluster_spec().as_dict()[\\'worker\\'])\\nexcept ValueError:\\n  raise BaseException(\\'ERROR: Not connected to a TPU runtime; please see the previous cell in this notebook for instructions!\\')\\n'"
            ]
          },
          "metadata": {
            "tags": []
          },
          "execution_count": 2
        }
      ]
    },
    {
      "cell_type": "markdown",
      "metadata": {
        "id": "L9TR3tlENFbR",
        "colab_type": "text"
      },
      "source": [
        "## Move into the Mask RCNN directory and install the package"
      ]
    },
    {
      "cell_type": "code",
      "metadata": {
        "id": "wVOX_chSYdSZ",
        "colab_type": "code",
        "colab": {}
      },
      "source": [
        "import os\n",
        "os.chdir('Mask_RCNN')\n"
      ],
      "execution_count": 0,
      "outputs": []
    },
    {
      "cell_type": "code",
      "metadata": {
        "id": "QhqpV4bXY1dp",
        "colab_type": "code",
        "outputId": "e348de39-b21d-4188-8ecc-516226b4c4ab",
        "colab": {
          "base_uri": "https://localhost:8080/",
          "height": 50
        }
      },
      "source": [
        "!ls\n"
      ],
      "execution_count": 4,
      "outputs": [
        {
          "output_type": "stream",
          "text": [
            "assets\tLICENSE      mrcnn\trequirements.txt  setup.cfg\n",
            "images\tMANIFEST.in  README.md\tsamples\t\t  setup.py\n"
          ],
          "name": "stdout"
        }
      ]
    },
    {
      "cell_type": "code",
      "metadata": {
        "id": "q6HXBYhDY-Jn",
        "colab_type": "code",
        "outputId": "b52ae33f-f804-4473-bc01-67c7be868bd0",
        "colab": {
          "base_uri": "https://localhost:8080/",
          "height": 895
        }
      },
      "source": [
        "!python3 setup.py install;"
      ],
      "execution_count": 5,
      "outputs": [
        {
          "output_type": "stream",
          "text": [
            "WARNING:root:Fail load requirements file, so using default ones.\n",
            "running install\n",
            "running bdist_egg\n",
            "running egg_info\n",
            "creating mask_rcnn.egg-info\n",
            "writing mask_rcnn.egg-info/PKG-INFO\n",
            "writing dependency_links to mask_rcnn.egg-info/dependency_links.txt\n",
            "writing top-level names to mask_rcnn.egg-info/top_level.txt\n",
            "writing manifest file 'mask_rcnn.egg-info/SOURCES.txt'\n",
            "reading manifest template 'MANIFEST.in'\n",
            "writing manifest file 'mask_rcnn.egg-info/SOURCES.txt'\n",
            "installing library code to build/bdist.linux-x86_64/egg\n",
            "running install_lib\n",
            "running build_py\n",
            "creating build\n",
            "creating build/lib\n",
            "creating build/lib/mrcnn\n",
            "copying mrcnn/utils.py -> build/lib/mrcnn\n",
            "copying mrcnn/parallel_model.py -> build/lib/mrcnn\n",
            "copying mrcnn/visualize.py -> build/lib/mrcnn\n",
            "copying mrcnn/model.py -> build/lib/mrcnn\n",
            "copying mrcnn/__init__.py -> build/lib/mrcnn\n",
            "copying mrcnn/config.py -> build/lib/mrcnn\n",
            "creating build/bdist.linux-x86_64\n",
            "creating build/bdist.linux-x86_64/egg\n",
            "creating build/bdist.linux-x86_64/egg/mrcnn\n",
            "copying build/lib/mrcnn/utils.py -> build/bdist.linux-x86_64/egg/mrcnn\n",
            "copying build/lib/mrcnn/parallel_model.py -> build/bdist.linux-x86_64/egg/mrcnn\n",
            "copying build/lib/mrcnn/visualize.py -> build/bdist.linux-x86_64/egg/mrcnn\n",
            "copying build/lib/mrcnn/model.py -> build/bdist.linux-x86_64/egg/mrcnn\n",
            "copying build/lib/mrcnn/__init__.py -> build/bdist.linux-x86_64/egg/mrcnn\n",
            "copying build/lib/mrcnn/config.py -> build/bdist.linux-x86_64/egg/mrcnn\n",
            "byte-compiling build/bdist.linux-x86_64/egg/mrcnn/utils.py to utils.cpython-36.pyc\n",
            "byte-compiling build/bdist.linux-x86_64/egg/mrcnn/parallel_model.py to parallel_model.cpython-36.pyc\n",
            "byte-compiling build/bdist.linux-x86_64/egg/mrcnn/visualize.py to visualize.cpython-36.pyc\n",
            "byte-compiling build/bdist.linux-x86_64/egg/mrcnn/model.py to model.cpython-36.pyc\n",
            "byte-compiling build/bdist.linux-x86_64/egg/mrcnn/__init__.py to __init__.cpython-36.pyc\n",
            "byte-compiling build/bdist.linux-x86_64/egg/mrcnn/config.py to config.cpython-36.pyc\n",
            "creating build/bdist.linux-x86_64/egg/EGG-INFO\n",
            "copying mask_rcnn.egg-info/PKG-INFO -> build/bdist.linux-x86_64/egg/EGG-INFO\n",
            "copying mask_rcnn.egg-info/SOURCES.txt -> build/bdist.linux-x86_64/egg/EGG-INFO\n",
            "copying mask_rcnn.egg-info/dependency_links.txt -> build/bdist.linux-x86_64/egg/EGG-INFO\n",
            "copying mask_rcnn.egg-info/top_level.txt -> build/bdist.linux-x86_64/egg/EGG-INFO\n",
            "zip_safe flag not set; analyzing archive contents...\n",
            "creating dist\n",
            "creating 'dist/mask_rcnn-2.1-py3.6.egg' and adding 'build/bdist.linux-x86_64/egg' to it\n",
            "removing 'build/bdist.linux-x86_64/egg' (and everything under it)\n",
            "Processing mask_rcnn-2.1-py3.6.egg\n",
            "Copying mask_rcnn-2.1-py3.6.egg to /usr/local/lib/python3.6/dist-packages\n",
            "Adding mask-rcnn 2.1 to easy-install.pth file\n",
            "\n",
            "Installed /usr/local/lib/python3.6/dist-packages/mask_rcnn-2.1-py3.6.egg\n",
            "Processing dependencies for mask-rcnn==2.1\n",
            "Finished processing dependencies for mask-rcnn==2.1\n"
          ],
          "name": "stdout"
        }
      ]
    },
    {
      "cell_type": "markdown",
      "metadata": {
        "id": "isg3ROVwNU10",
        "colab_type": "text"
      },
      "source": [
        "## Load Modules"
      ]
    },
    {
      "cell_type": "code",
      "metadata": {
        "id": "KQuRm7a5ZCt2",
        "colab_type": "code",
        "outputId": "fbff2746-1c76-4f4c-8821-0ece0cce69b0",
        "colab": {
          "base_uri": "https://localhost:8080/",
          "height": 33
        }
      },
      "source": [
        "import mrcnn\n",
        "import mrcnn.model as modellib\n",
        "from mrcnn.config import Config\n",
        "from mrcnn import utils\n",
        "from mrcnn.model import MaskRCNN\n",
        "from mrcnn import visualize\n",
        "\n",
        "import numpy as np\n",
        "import colorsys\n",
        "import argparse\n",
        "import random\n",
        "import os\n",
        "import sys\n",
        "import time\n",
        "import json\n",
        "import skimage\n",
        "import datetime\n",
        "from keras.models import load_model\n"
      ],
      "execution_count": 6,
      "outputs": [
        {
          "output_type": "stream",
          "text": [
            "Using TensorFlow backend.\n"
          ],
          "name": "stderr"
        }
      ]
    },
    {
      "cell_type": "markdown",
      "metadata": {
        "id": "NZT1tDtuNZPp",
        "colab_type": "text"
      },
      "source": [
        "## Link Google Drive and set up directories"
      ]
    },
    {
      "cell_type": "code",
      "metadata": {
        "id": "bx82nST2ZQ8r",
        "colab_type": "code",
        "outputId": "6a5b108b-8743-4d5c-b182-41a6f190c775",
        "colab": {
          "base_uri": "https://localhost:8080/",
          "height": 118
        }
      },
      "source": [
        "from google.colab import drive\n",
        "drive.mount('/content/drive')"
      ],
      "execution_count": 7,
      "outputs": [
        {
          "output_type": "stream",
          "text": [
            "Go to this URL in a browser: https://accounts.google.com/o/oauth2/auth?client_id=947318989803-6bn6qk8qdgf4n4g3pfee6491hc0brc4i.apps.googleusercontent.com&redirect_uri=urn%3aietf%3awg%3aoauth%3a2.0%3aoob&response_type=code&scope=email%20https%3a%2f%2fwww.googleapis.com%2fauth%2fdocs.test%20https%3a%2f%2fwww.googleapis.com%2fauth%2fdrive%20https%3a%2f%2fwww.googleapis.com%2fauth%2fdrive.photos.readonly%20https%3a%2f%2fwww.googleapis.com%2fauth%2fpeopleapi.readonly\n",
            "\n",
            "Enter your authorization code:\n",
            "··········\n",
            "Mounted at /content/drive\n"
          ],
          "name": "stdout"
        }
      ]
    },
    {
      "cell_type": "code",
      "metadata": {
        "id": "sgSrZ5BMa-CP",
        "colab_type": "code",
        "colab": {}
      },
      "source": [
        "homedir='/content/drive/My Drive/Colab Data/'\n",
        "datadir=homedir+'data/RCNN_test_all/'"
      ],
      "execution_count": 0,
      "outputs": []
    },
    {
      "cell_type": "code",
      "metadata": {
        "id": "XDgXYJTJc8kD",
        "colab_type": "code",
        "outputId": "2e623184-8624-4c8d-8eda-ff27427b0fbd",
        "colab": {
          "base_uri": "https://localhost:8080/",
          "height": 33
        }
      },
      "source": [
        "#files need to be accessed using os !ls does not work.\n",
        "os.listdir(homedir)"
      ],
      "execution_count": 9,
      "outputs": [
        {
          "output_type": "execute_result",
          "data": {
            "text/plain": [
              "['model_data', 'data']"
            ]
          },
          "metadata": {
            "tags": []
          },
          "execution_count": 9
        }
      ]
    },
    {
      "cell_type": "markdown",
      "metadata": {
        "id": "Q_-yptDFNjOK",
        "colab_type": "text"
      },
      "source": [
        "## Define the Config and Dataset classes"
      ]
    },
    {
      "cell_type": "code",
      "metadata": {
        "id": "0bHXhRkcdM5H",
        "colab_type": "code",
        "outputId": "966fda5e-4e35-462b-f51d-0da901e38c30",
        "colab": {
          "base_uri": "https://localhost:8080/",
          "height": 862
        }
      },
      "source": [
        "class myMaskRCNNConfig(Config):\n",
        "    NAME = \"MaskRCNN_config\"\n",
        " \n",
        "    # set the number of GPUs to use along with the number of images\n",
        "    # per GPU\n",
        "    GPU_COUNT = 1\n",
        "    IMAGES_PER_GPU = 2\n",
        " \n",
        "    # number of classes (we would normally add +1 for the background)\n",
        "    NUM_CLASSES = 3+1\n",
        "   \n",
        "    # Number of training steps per epoch\n",
        "    STEPS_PER_EPOCH = 240\n",
        "    \n",
        "    # Learning rate (reduced to stop NaN losses)\n",
        "    #LEARNING_RATE=0.006\n",
        "    LEARNING_RATE=0.001\n",
        "    \n",
        "    # Skip detections with < 90% confidence\n",
        "    DETECTION_MIN_CONFIDENCE = 0.9\n",
        "    \n",
        "    # setting Max ground truth instances\n",
        "    MAX_GT_INSTANCES=10\n",
        "    \n",
        "config = myMaskRCNNConfig()\n",
        "config.display()\n",
        "\n",
        "\"\"\"\n",
        "DEFINE THE TRAINING AND VALIDATION SETS HERE\n",
        "\"\"\"\n",
        "check=[]\n",
        "class MelonDataset(utils.Dataset):\n",
        "\n",
        "    def load_dataset(self, dataset_dir):\n",
        "        \"\"\"Load a subset of the Balloon dataset.\n",
        "        dataset_dir: Root directory of the dataset.\n",
        "        subset: Subset to load: train or val\n",
        "        \"\"\"\n",
        "        # Add classes. We have only one class to add.\n",
        "        #             (source (dataset), class (integer), class name)\n",
        "        self.add_class(\"melon\", 1, \"watermelon\")\n",
        "        self.add_class(\"melon\", 2, \"canteloupe\")\n",
        "        self.add_class(\"melon\", 3, \"honeydew\")\n",
        "      \n",
        "\n",
        "        # Train or validation dataset?\n",
        "        #assert subset in [\"train\", \"test\"]\n",
        "        #dataset_dir = os.path.join(dataset_dir, subset)\n",
        "\n",
        "        # Load annotations\n",
        "        # VGG Image Annotator saves each image in the form:\n",
        "        # { 'filename': '28503151_5b5b7ec140_b.jpg',\n",
        "        #   'regions': {\n",
        "        #       '0': {\n",
        "        #           'region_attributes': {},\n",
        "        #           'shape_attributes': {\n",
        "        #               'all_points_x': [...],\n",
        "        #               'all_points_y': [...],\n",
        "        #               'name': 'polygon'}},\n",
        "        #       ... more regions ...\n",
        "        #   },\n",
        "        #   'size': 100202\n",
        "        # }\n",
        "        # We mostly care about the x and y coordinates of each region\n",
        "        annotations = json.load(open(os.path.join(homedir, \"model_data/all_melon_annot.json\")))\n",
        "        annotations = list(annotations.values())  # don't need the dict keys\n",
        "\n",
        "        # The VIA tool saves images in the JSON even if they don't have any\n",
        "        # annotations. Skip unannotated images.\n",
        "        annotations = [a for a in annotations if a['regions']]\n",
        "        for a in annotations:\n",
        "            if a['filename'] in os.listdir(dataset_dir):\n",
        "                # Get the x, y coordinates of points of the polygons that make up\n",
        "                # the outline of each object instance. These are stored in the\n",
        "                # shape_attributes (see json format above)\n",
        "        \n",
        "                if type(a['regions']) is dict:\n",
        "                        polygons = [r['shape_attributes'] for r in a['regions'].values()]\n",
        "                        melon_type = [s['region_attributes'] for s in a['regions'].values()]\n",
        "                        #print('\\n\\n1:\\n\\n'+polygons)\n",
        "                else:\n",
        "                        polygons = [r['shape_attributes'] for r in a['regions']]\n",
        "                        melon_type = [s['region_attributes'] for s in a['regions']]\n",
        "                        #polygons=polygons[0]\n",
        "                        #print('\\n\\n2:\\n\\n'+str(polygons.items()))\n",
        "\n",
        "    \n",
        "                #polygons=polygons[0]\n",
        "        \n",
        "                # load_mask() needs the image size to convert polygons to masks.\n",
        "                # Unfortunately, VIA doesn't include it in JSON, so we must read\n",
        "                # the image. This is only managable since the dataset is tiny.\n",
        "                image_path = os.path.join(dataset_dir, a['filename'])\n",
        "                image = skimage.io.imread(image_path)\n",
        "                height, width = image.shape[:2]\n",
        "    \n",
        "                self.add_image(\n",
        "                    \"melon\",\n",
        "                    image_id=a['filename'],  # use file name as a unique image id\n",
        "                    path=image_path,\n",
        "                    width=width, height=height,\n",
        "                    polygons=polygons,\n",
        "                    melon_type=melon_type)\n",
        "\n",
        "    def load_mask(self, image_id):\n",
        "        \"\"\"\n",
        "        Generate instance masks for an image.\n",
        "        \n",
        "        Returns:\n",
        "        \n",
        "        masks: A bool array of shape [height, width, instance count] with\n",
        "               one mask per instance.\n",
        "        \n",
        "        class_ids: a 1D array of class IDs of the instance masks.\n",
        "        \n",
        "        \"\"\"\n",
        "        # If not a melon dataset image, delegate to parent class.\n",
        "        image_info = self.image_info[image_id]\n",
        "        if image_info[\"source\"] != \"melon\":\n",
        "            print('not a melon!')\n",
        "            return super(self.__class__, self).load_mask(image_id)\n",
        "\n",
        "        #class_ids = image_info['class_ids']\n",
        "        # Convert polygons to a bitmap mask of shape\n",
        "        # [height, width, instance_count]\n",
        "        info = self.image_info[image_id]\n",
        "        mask = np.zeros([info[\"height\"], info[\"width\"], len(info[\"polygons\"])],\n",
        "                        dtype=np.uint8)\n",
        "        \n",
        "        #if info[\"polygons\"][\"name\"]==\"polyline\":\n",
        "        class_id=[]\n",
        "        #print(len(info[\"polygons\"]))\n",
        "        for i, p in enumerate(info[\"polygons\"]):\n",
        "            # Get indexes of pixels inside the polygon and set them to 1\n",
        "            rr, cc = skimage.draw.polygon(p['all_points_y'], p['all_points_x'])\n",
        "            mask[rr, cc, i] = 1\n",
        "            m_type=(list(info[\"melon_type\"][i]['type'].keys()))\n",
        "            class_id.append(self.class_names.index(m_type[0]))\n",
        "        class_ids = np.array(class_id, dtype=np.int32)\n",
        "        #class_ids = np.array(class_ids, dtype=np.int32)\n",
        "        # Return mask, and array of class IDs of each instance. Since we have\n",
        "        # one class ID only, we return an array of 1s\n",
        "        return mask, class_ids #np.ones([mask.shape[-1]], dtype=np.int32)\n",
        "\n",
        "    def image_reference(self, image_id):\n",
        "        \"\"\"Return the path of the image.\"\"\"\n",
        "        info = self.image_info[image_id]\n",
        "        if info[\"source\"] == \"melon\":\n",
        "            return info[\"path\"]\n",
        "        else:\n",
        "            super(self.__class__, self).image_reference(image_id)"
      ],
      "execution_count": 10,
      "outputs": [
        {
          "output_type": "stream",
          "text": [
            "\n",
            "Configurations:\n",
            "BACKBONE                       resnet101\n",
            "BACKBONE_STRIDES               [4, 8, 16, 32, 64]\n",
            "BATCH_SIZE                     2\n",
            "BBOX_STD_DEV                   [0.1 0.1 0.2 0.2]\n",
            "COMPUTE_BACKBONE_SHAPE         None\n",
            "DETECTION_MAX_INSTANCES        100\n",
            "DETECTION_MIN_CONFIDENCE       0.9\n",
            "DETECTION_NMS_THRESHOLD        0.3\n",
            "FPN_CLASSIF_FC_LAYERS_SIZE     1024\n",
            "GPU_COUNT                      1\n",
            "GRADIENT_CLIP_NORM             5.0\n",
            "IMAGES_PER_GPU                 2\n",
            "IMAGE_CHANNEL_COUNT            3\n",
            "IMAGE_MAX_DIM                  1024\n",
            "IMAGE_META_SIZE                16\n",
            "IMAGE_MIN_DIM                  800\n",
            "IMAGE_MIN_SCALE                0\n",
            "IMAGE_RESIZE_MODE              square\n",
            "IMAGE_SHAPE                    [1024 1024    3]\n",
            "LEARNING_MOMENTUM              0.9\n",
            "LEARNING_RATE                  0.001\n",
            "LOSS_WEIGHTS                   {'rpn_class_loss': 1.0, 'rpn_bbox_loss': 1.0, 'mrcnn_class_loss': 1.0, 'mrcnn_bbox_loss': 1.0, 'mrcnn_mask_loss': 1.0}\n",
            "MASK_POOL_SIZE                 14\n",
            "MASK_SHAPE                     [28, 28]\n",
            "MAX_GT_INSTANCES               10\n",
            "MEAN_PIXEL                     [123.7 116.8 103.9]\n",
            "MINI_MASK_SHAPE                (56, 56)\n",
            "NAME                           MaskRCNN_config\n",
            "NUM_CLASSES                    4\n",
            "POOL_SIZE                      7\n",
            "POST_NMS_ROIS_INFERENCE        1000\n",
            "POST_NMS_ROIS_TRAINING         2000\n",
            "PRE_NMS_LIMIT                  6000\n",
            "ROI_POSITIVE_RATIO             0.33\n",
            "RPN_ANCHOR_RATIOS              [0.5, 1, 2]\n",
            "RPN_ANCHOR_SCALES              (32, 64, 128, 256, 512)\n",
            "RPN_ANCHOR_STRIDE              1\n",
            "RPN_BBOX_STD_DEV               [0.1 0.1 0.2 0.2]\n",
            "RPN_NMS_THRESHOLD              0.7\n",
            "RPN_TRAIN_ANCHORS_PER_IMAGE    256\n",
            "STEPS_PER_EPOCH                240\n",
            "TOP_DOWN_PYRAMID_SIZE          256\n",
            "TRAIN_BN                       False\n",
            "TRAIN_ROIS_PER_IMAGE           200\n",
            "USE_MINI_MASK                  True\n",
            "USE_RPN_ROIS                   True\n",
            "VALIDATION_STEPS               50\n",
            "WEIGHT_DECAY                   0.0001\n",
            "\n",
            "\n"
          ],
          "name": "stdout"
        }
      ]
    },
    {
      "cell_type": "markdown",
      "metadata": {
        "id": "2mFIBpX7Nusc",
        "colab_type": "text"
      },
      "source": [
        "## Prepare the Training and Test Sets"
      ]
    },
    {
      "cell_type": "code",
      "metadata": {
        "id": "Zh84_nepd1XG",
        "colab_type": "code",
        "outputId": "2168e08a-b2e2-4317-a885-ea5fe400998f",
        "colab": {
          "base_uri": "https://localhost:8080/",
          "height": 50
        }
      },
      "source": [
        "# prepare train set\n",
        "train_set = MelonDataset()\n",
        "train_set.load_dataset(datadir+'train')\n",
        "train_set.prepare()\n",
        "print('Train: %d' % len(train_set.image_ids))\n",
        "# prepare test/val set\n",
        "test_set = MelonDataset()\n",
        "test_set.load_dataset(datadir+'test')\n",
        "test_set.prepare()\n",
        "print('Test: %d' % len(test_set.image_ids))"
      ],
      "execution_count": 11,
      "outputs": [
        {
          "output_type": "stream",
          "text": [
            "Train: 240\n",
            "Test: 60\n"
          ],
          "name": "stdout"
        }
      ]
    },
    {
      "cell_type": "code",
      "metadata": {
        "id": "FUww9wiwVPC0",
        "colab_type": "code",
        "outputId": "8e005964-6d18-4992-a22e-a5543fe52a95",
        "colab": {
          "base_uri": "https://localhost:8080/",
          "height": 115
        }
      },
      "source": [
        "print(\"Image Count: {}\".format(len(train_set.image_ids)))\n",
        "print(\"Class Count: {}\".format(train_set.num_classes))\n",
        "for i, info in enumerate(train_set.class_info):\n",
        "    print(\"{:3}. {:50}\".format(i, info['name']))\n"
      ],
      "execution_count": 12,
      "outputs": [
        {
          "output_type": "stream",
          "text": [
            "Image Count: 240\n",
            "Class Count: 4\n",
            "  0. BG                                                \n",
            "  1. watermelon                                        \n",
            "  2. canteloupe                                        \n",
            "  3. honeydew                                          \n"
          ],
          "name": "stdout"
        }
      ]
    },
    {
      "cell_type": "code",
      "metadata": {
        "id": "cnRBASncbbZ2",
        "colab_type": "code",
        "outputId": "4691aa02-1d67-4039-da3b-aff9144528bb",
        "colab": {
          "base_uri": "https://localhost:8080/",
          "height": 82
        }
      },
      "source": [
        "train_set.class_info"
      ],
      "execution_count": 13,
      "outputs": [
        {
          "output_type": "execute_result",
          "data": {
            "text/plain": [
              "[{'id': 0, 'name': 'BG', 'source': ''},\n",
              " {'id': 1, 'name': 'watermelon', 'source': 'melon'},\n",
              " {'id': 2, 'name': 'canteloupe', 'source': 'melon'},\n",
              " {'id': 3, 'name': 'honeydew', 'source': 'melon'}]"
            ]
          },
          "metadata": {
            "tags": []
          },
          "execution_count": 13
        }
      ]
    },
    {
      "cell_type": "code",
      "metadata": {
        "id": "2V1rNWSNXQga",
        "colab_type": "code",
        "outputId": "b1c525b5-cf74-43dd-8b08-69046a67cf27",
        "colab": {
          "base_uri": "https://localhost:8080/",
          "height": 522
        }
      },
      "source": [
        "# Load and display random samples\n",
        "image_ids = np.random.choice(train_set.image_ids, 4)\n",
        "for image_id in image_ids:\n",
        "    image = train_set.load_image(image_id)\n",
        "    mask, class_ids = train_set.load_mask(image_id)\n",
        "    visualize.display_top_masks(image, mask, class_ids, train_set.class_names)"
      ],
      "execution_count": 15,
      "outputs": [
        {
          "output_type": "display_data",
          "data": {
            "image/png": "[encoded data removed]",
            "text/plain": [
              "<Figure size 1008x360 with 5 Axes>"
            ]
          },
          "metadata": {
            "tags": []
          }
        },
        {
          "output_type": "display_data",
          "data": {
            "image/png": "[encoded data removed]",
            "text/plain": [
              "<Figure size 1008x360 with 5 Axes>"
            ]
          },
          "metadata": {
            "tags": []
          }
        },
        {
          "output_type": "display_data",
          "data": {
            "image/png": "[encoded data removed]",
            "text/plain": [
              "<Figure size 1008x360 with 5 Axes>"
            ]
          },
          "metadata": {
            "tags": []
          }
        },
        {
          "output_type": "display_data",
          "data": {
            "image/png": "[encoded data removed]",
            "text/plain": [
              "<Figure size 1008x360 with 5 Axes>"
            ]
          },
          "metadata": {
            "tags": []
          }
        }
      ]
    },
    {
      "cell_type": "code",
      "metadata": {
        "id": "rqU9uPC6Gv6r",
        "colab_type": "code",
        "outputId": "0fe38ef9-32e7-412e-efad-fde5b627bab5",
        "colab": {
          "base_uri": "https://localhost:8080/",
          "height": 33
        }
      },
      "source": [
        "mask, class_id = train_set.load_mask(150)\n",
        "class_id"
      ],
      "execution_count": 16,
      "outputs": [
        {
          "output_type": "execute_result",
          "data": {
            "text/plain": [
              "array([3, 3], dtype=int32)"
            ]
          },
          "metadata": {
            "tags": []
          },
          "execution_count": 16
        }
      ]
    },
    {
      "cell_type": "code",
      "metadata": {
        "id": "3v7X1AQMW8Gx",
        "colab_type": "code",
        "outputId": "127765a5-1407-426d-dd0d-7100462b4cc0",
        "colab": {
          "base_uri": "https://localhost:8080/",
          "height": 66
        }
      },
      "source": [
        "!ls"
      ],
      "execution_count": 17,
      "outputs": [
        {
          "output_type": "stream",
          "text": [
            "assets\timages\t     mask_rcnn.egg-info  requirements.txt  setup.py\n",
            "build\tLICENSE      mrcnn\t\t samples\n",
            "dist\tMANIFEST.in  README.md\t\t setup.cfg\n"
          ],
          "name": "stdout"
        }
      ]
    },
    {
      "cell_type": "markdown",
      "metadata": {
        "id": "aomxEhkBVLWT",
        "colab_type": "text"
      },
      "source": [
        "# Prepare the Training Model:"
      ]
    },
    {
      "cell_type": "code",
      "metadata": {
        "id": "2tgqfZMZd5t1",
        "colab_type": "code",
        "outputId": "0742260a-5ae2-47ce-f569-b1bcd0821f6b",
        "colab": {
          "base_uri": "https://localhost:8080/",
          "height": 586
        }
      },
      "source": [
        "print(\"Loading Mask R-CNN model...\")\n",
        "model = modellib.MaskRCNN(mode=\"training\", config=config, model_dir='./')\n",
        "\n",
        "#load the weights for COCO\n",
        "model.load_weights(homedir+'model_data/mask_rcnn_coco.h5', \n",
        "                   by_name=True, \n",
        "                   exclude=[\"mrcnn_class_logits\", \"mrcnn_bbox_fc\",  \"mrcnn_bbox\", \"mrcnn_mask\"])"
      ],
      "execution_count": 18,
      "outputs": [
        {
          "output_type": "stream",
          "text": [
            "Loading Mask R-CNN model...\n",
            "WARNING:tensorflow:From /usr/local/lib/python3.6/dist-packages/keras/backend/tensorflow_backend.py:541: The name tf.placeholder is deprecated. Please use tf.compat.v1.placeholder instead.\n",
            "\n",
            "WARNING:tensorflow:From /usr/local/lib/python3.6/dist-packages/keras/backend/tensorflow_backend.py:66: The name tf.get_default_graph is deprecated. Please use tf.compat.v1.get_default_graph instead.\n",
            "\n",
            "WARNING:tensorflow:From /usr/local/lib/python3.6/dist-packages/keras/backend/tensorflow_backend.py:4432: The name tf.random_uniform is deprecated. Please use tf.random.uniform instead.\n",
            "\n",
            "WARNING:tensorflow:From /usr/local/lib/python3.6/dist-packages/keras/backend/tensorflow_backend.py:2139: The name tf.nn.fused_batch_norm is deprecated. Please use tf.compat.v1.nn.fused_batch_norm instead.\n",
            "\n",
            "WARNING:tensorflow:From /usr/local/lib/python3.6/dist-packages/keras/backend/tensorflow_backend.py:4267: The name tf.nn.max_pool is deprecated. Please use tf.nn.max_pool2d instead.\n",
            "\n",
            "WARNING:tensorflow:From /usr/local/lib/python3.6/dist-packages/keras/backend/tensorflow_backend.py:2239: The name tf.image.resize_nearest_neighbor is deprecated. Please use tf.compat.v1.image.resize_nearest_neighbor instead.\n",
            "\n",
            "WARNING:tensorflow:From /usr/local/lib/python3.6/dist-packages/tensorflow_core/python/ops/array_ops.py:1475: where (from tensorflow.python.ops.array_ops) is deprecated and will be removed in a future version.\n",
            "Instructions for updating:\n",
            "Use tf.where in 2.0, which has the same broadcast rule as np.where\n",
            "WARNING:tensorflow:From /content/Mask_RCNN/mrcnn/model.py:553: The name tf.random_shuffle is deprecated. Please use tf.random.shuffle instead.\n",
            "\n",
            "WARNING:tensorflow:From /content/Mask_RCNN/mrcnn/utils.py:202: The name tf.log is deprecated. Please use tf.math.log instead.\n",
            "\n",
            "WARNING:tensorflow:From /content/Mask_RCNN/mrcnn/model.py:600: calling crop_and_resize_v1 (from tensorflow.python.ops.image_ops_impl) with box_ind is deprecated and will be removed in a future version.\n",
            "Instructions for updating:\n",
            "box_ind is deprecated, use box_indices instead\n",
            "WARNING:tensorflow:From /usr/local/lib/python3.6/dist-packages/keras/backend/tensorflow_backend.py:190: The name tf.get_default_session is deprecated. Please use tf.compat.v1.get_default_session instead.\n",
            "\n",
            "WARNING:tensorflow:From /usr/local/lib/python3.6/dist-packages/keras/backend/tensorflow_backend.py:197: The name tf.ConfigProto is deprecated. Please use tf.compat.v1.ConfigProto instead.\n",
            "\n",
            "WARNING:tensorflow:From /usr/local/lib/python3.6/dist-packages/keras/backend/tensorflow_backend.py:203: The name tf.Session is deprecated. Please use tf.compat.v1.Session instead.\n",
            "\n",
            "WARNING:tensorflow:From /usr/local/lib/python3.6/dist-packages/keras/backend/tensorflow_backend.py:207: The name tf.global_variables is deprecated. Please use tf.compat.v1.global_variables instead.\n",
            "\n",
            "WARNING:tensorflow:From /usr/local/lib/python3.6/dist-packages/keras/backend/tensorflow_backend.py:216: The name tf.is_variable_initialized is deprecated. Please use tf.compat.v1.is_variable_initialized instead.\n",
            "\n",
            "WARNING:tensorflow:From /usr/local/lib/python3.6/dist-packages/keras/backend/tensorflow_backend.py:223: The name tf.variables_initializer is deprecated. Please use tf.compat.v1.variables_initializer instead.\n",
            "\n"
          ],
          "name": "stdout"
        }
      ]
    },
    {
      "cell_type": "markdown",
      "metadata": {
        "id": "YZgxO4HnVRlg",
        "colab_type": "text"
      },
      "source": [
        "## Train the Model:"
      ]
    },
    {
      "cell_type": "code",
      "metadata": {
        "id": "NW59utIre5zI",
        "colab_type": "code",
        "outputId": "3feb89b2-634a-4d49-999e-b8f3d8a0c91e",
        "colab": {
          "base_uri": "https://localhost:8080/",
          "height": 1000
        }
      },
      "source": [
        "## train heads with higher lr to speedup the learning\n",
        "model.train(train_set, test_set, learning_rate=2*config.LEARNING_RATE, epochs=15, layers='heads')\n",
        "history = model.keras_model.history.history"
      ],
      "execution_count": 19,
      "outputs": [
        {
          "output_type": "stream",
          "text": [
            "\n",
            "Starting at epoch 0. LR=0.002\n",
            "\n",
            "Checkpoint Path: ./maskrcnn_config20200227T1210/mask_rcnn_maskrcnn_config_{epoch:04d}.h5\n",
            "Selecting layers to train\n",
            "fpn_c5p5               (Conv2D)\n",
            "fpn_c4p4               (Conv2D)\n",
            "fpn_c3p3               (Conv2D)\n",
            "fpn_c2p2               (Conv2D)\n",
            "fpn_p5                 (Conv2D)\n",
            "fpn_p2                 (Conv2D)\n",
            "fpn_p3                 (Conv2D)\n",
            "fpn_p4                 (Conv2D)\n",
            "In model:  rpn_model\n",
            "    rpn_conv_shared        (Conv2D)\n",
            "    rpn_class_raw          (Conv2D)\n",
            "    rpn_bbox_pred          (Conv2D)\n",
            "mrcnn_mask_conv1       (TimeDistributed)\n",
            "mrcnn_mask_bn1         (TimeDistributed)\n",
            "mrcnn_mask_conv2       (TimeDistributed)\n",
            "mrcnn_mask_bn2         (TimeDistributed)\n",
            "mrcnn_class_conv1      (TimeDistributed)\n",
            "mrcnn_class_bn1        (TimeDistributed)\n",
            "mrcnn_mask_conv3       (TimeDistributed)\n",
            "mrcnn_mask_bn3         (TimeDistributed)\n",
            "mrcnn_class_conv2      (TimeDistributed)\n",
            "mrcnn_class_bn2        (TimeDistributed)\n",
            "mrcnn_mask_conv4       (TimeDistributed)\n",
            "mrcnn_mask_bn4         (TimeDistributed)\n",
            "mrcnn_bbox_fc          (TimeDistributed)\n",
            "mrcnn_mask_deconv      (TimeDistributed)\n",
            "mrcnn_class_logits     (TimeDistributed)\n",
            "mrcnn_mask             (TimeDistributed)\n",
            "WARNING:tensorflow:From /usr/local/lib/python3.6/dist-packages/keras/optimizers.py:793: The name tf.train.Optimizer is deprecated. Please use tf.compat.v1.train.Optimizer instead.\n",
            "\n"
          ],
          "name": "stdout"
        },
        {
          "output_type": "stream",
          "text": [
            "/usr/local/lib/python3.6/dist-packages/tensorflow_core/python/framework/indexed_slices.py:424: UserWarning: Converting sparse IndexedSlices to a dense Tensor of unknown shape. This may consume a large amount of memory.\n",
            "  \"Converting sparse IndexedSlices to a dense Tensor of unknown shape. \"\n",
            "/usr/local/lib/python3.6/dist-packages/tensorflow_core/python/framework/indexed_slices.py:424: UserWarning: Converting sparse IndexedSlices to a dense Tensor of unknown shape. This may consume a large amount of memory.\n",
            "  \"Converting sparse IndexedSlices to a dense Tensor of unknown shape. \"\n",
            "/usr/local/lib/python3.6/dist-packages/tensorflow_core/python/framework/indexed_slices.py:424: UserWarning: Converting sparse IndexedSlices to a dense Tensor of unknown shape. This may consume a large amount of memory.\n",
            "  \"Converting sparse IndexedSlices to a dense Tensor of unknown shape. \"\n"
          ],
          "name": "stderr"
        },
        {
          "output_type": "stream",
          "text": [
            "WARNING:tensorflow:From /usr/local/lib/python3.6/dist-packages/keras/backend/tensorflow_backend.py:1033: The name tf.assign_add is deprecated. Please use tf.compat.v1.assign_add instead.\n",
            "\n",
            "WARNING:tensorflow:From /usr/local/lib/python3.6/dist-packages/keras/backend/tensorflow_backend.py:1020: The name tf.assign is deprecated. Please use tf.compat.v1.assign instead.\n",
            "\n"
          ],
          "name": "stdout"
        },
        {
          "output_type": "stream",
          "text": [
            "/usr/local/lib/python3.6/dist-packages/keras/engine/training_generator.py:49: UserWarning: Using a generator with `use_multiprocessing=True` and multiple workers may duplicate your data. Please consider using the `keras.utils.Sequence class.\n",
            "  UserWarning('Using a generator with `use_multiprocessing=True`'\n"
          ],
          "name": "stderr"
        },
        {
          "output_type": "stream",
          "text": [
            "WARNING:tensorflow:From /usr/local/lib/python3.6/dist-packages/keras/callbacks.py:1122: The name tf.summary.merge_all is deprecated. Please use tf.compat.v1.summary.merge_all instead.\n",
            "\n",
            "WARNING:tensorflow:From /usr/local/lib/python3.6/dist-packages/keras/callbacks.py:1125: The name tf.summary.FileWriter is deprecated. Please use tf.compat.v1.summary.FileWriter instead.\n",
            "\n",
            "Epoch 1/15\n",
            "240/240 [==============================] - 244s 1s/step - loss: 1.2677 - rpn_class_loss: 0.0073 - rpn_bbox_loss: 0.3357 - mrcnn_class_loss: 0.2068 - mrcnn_bbox_loss: 0.4024 - mrcnn_mask_loss: 0.3155 - val_loss: 0.9502 - val_rpn_class_loss: 0.0050 - val_rpn_bbox_loss: 0.3776 - val_mrcnn_class_loss: 0.1428 - val_mrcnn_bbox_loss: 0.2303 - val_mrcnn_mask_loss: 0.1945\n",
            "WARNING:tensorflow:From /usr/local/lib/python3.6/dist-packages/keras/callbacks.py:1265: The name tf.Summary is deprecated. Please use tf.compat.v1.Summary instead.\n",
            "\n",
            "Epoch 2/15\n",
            "240/240 [==============================] - 148s 618ms/step - loss: 0.8306 - rpn_class_loss: 0.0065 - rpn_bbox_loss: 0.2971 - mrcnn_class_loss: 0.1505 - mrcnn_bbox_loss: 0.1829 - mrcnn_mask_loss: 0.1938 - val_loss: 0.8939 - val_rpn_class_loss: 0.0062 - val_rpn_bbox_loss: 0.3310 - val_mrcnn_class_loss: 0.1558 - val_mrcnn_bbox_loss: 0.1888 - val_mrcnn_mask_loss: 0.2120\n",
            "Epoch 3/15\n",
            "240/240 [==============================] - 165s 687ms/step - loss: 0.6169 - rpn_class_loss: 0.0048 - rpn_bbox_loss: 0.2003 - mrcnn_class_loss: 0.1251 - mrcnn_bbox_loss: 0.1232 - mrcnn_mask_loss: 0.1636 - val_loss: 0.8535 - val_rpn_class_loss: 0.0073 - val_rpn_bbox_loss: 0.3564 - val_mrcnn_class_loss: 0.1123 - val_mrcnn_bbox_loss: 0.1734 - val_mrcnn_mask_loss: 0.2042\n",
            "Epoch 4/15\n",
            "240/240 [==============================] - 184s 767ms/step - loss: 0.4422 - rpn_class_loss: 0.0037 - rpn_bbox_loss: 0.1410 - mrcnn_class_loss: 0.0720 - mrcnn_bbox_loss: 0.0802 - mrcnn_mask_loss: 0.1452 - val_loss: 0.8531 - val_rpn_class_loss: 0.0068 - val_rpn_bbox_loss: 0.3432 - val_mrcnn_class_loss: 0.1753 - val_mrcnn_bbox_loss: 0.1413 - val_mrcnn_mask_loss: 0.1866\n",
            "Epoch 5/15\n",
            "240/240 [==============================] - 185s 771ms/step - loss: 0.5007 - rpn_class_loss: 0.0052 - rpn_bbox_loss: 0.1830 - mrcnn_class_loss: 0.0756 - mrcnn_bbox_loss: 0.0907 - mrcnn_mask_loss: 0.1461 - val_loss: 0.7609 - val_rpn_class_loss: 0.0059 - val_rpn_bbox_loss: 0.2505 - val_mrcnn_class_loss: 0.1375 - val_mrcnn_bbox_loss: 0.1710 - val_mrcnn_mask_loss: 0.1960\n",
            "Epoch 6/15\n",
            "240/240 [==============================] - 186s 773ms/step - loss: 0.4623 - rpn_class_loss: 0.0049 - rpn_bbox_loss: 0.1761 - mrcnn_class_loss: 0.0698 - mrcnn_bbox_loss: 0.0790 - mrcnn_mask_loss: 0.1326 - val_loss: 0.8304 - val_rpn_class_loss: 0.0097 - val_rpn_bbox_loss: 0.3133 - val_mrcnn_class_loss: 0.1312 - val_mrcnn_bbox_loss: 0.1676 - val_mrcnn_mask_loss: 0.2087\n",
            "Epoch 7/15\n",
            "240/240 [==============================] - 186s 774ms/step - loss: 0.4208 - rpn_class_loss: 0.0049 - rpn_bbox_loss: 0.1572 - mrcnn_class_loss: 0.0606 - mrcnn_bbox_loss: 0.0718 - mrcnn_mask_loss: 0.1263 - val_loss: 0.8668 - val_rpn_class_loss: 0.0093 - val_rpn_bbox_loss: 0.4165 - val_mrcnn_class_loss: 0.1317 - val_mrcnn_bbox_loss: 0.1400 - val_mrcnn_mask_loss: 0.1692\n",
            "Epoch 8/15\n",
            "240/240 [==============================] - 184s 767ms/step - loss: 0.3162 - rpn_class_loss: 0.0037 - rpn_bbox_loss: 0.1041 - mrcnn_class_loss: 0.0438 - mrcnn_bbox_loss: 0.0519 - mrcnn_mask_loss: 0.1127 - val_loss: 1.0940 - val_rpn_class_loss: 0.0156 - val_rpn_bbox_loss: 0.4834 - val_mrcnn_class_loss: 0.1260 - val_mrcnn_bbox_loss: 0.1792 - val_mrcnn_mask_loss: 0.2898\n",
            "Epoch 9/15\n",
            "240/240 [==============================] - 188s 783ms/step - loss: 0.2537 - rpn_class_loss: 0.0026 - rpn_bbox_loss: 0.0754 - mrcnn_class_loss: 0.0325 - mrcnn_bbox_loss: 0.0360 - mrcnn_mask_loss: 0.1072 - val_loss: 0.8165 - val_rpn_class_loss: 0.0045 - val_rpn_bbox_loss: 0.3099 - val_mrcnn_class_loss: 0.1088 - val_mrcnn_bbox_loss: 0.1494 - val_mrcnn_mask_loss: 0.2439\n",
            "Epoch 10/15\n",
            "240/240 [==============================] - 187s 781ms/step - loss: 0.2389 - rpn_class_loss: 0.0036 - rpn_bbox_loss: 0.0725 - mrcnn_class_loss: 0.0268 - mrcnn_bbox_loss: 0.0329 - mrcnn_mask_loss: 0.1030 - val_loss: 0.8399 - val_rpn_class_loss: 0.0109 - val_rpn_bbox_loss: 0.3631 - val_mrcnn_class_loss: 0.1434 - val_mrcnn_bbox_loss: 0.1245 - val_mrcnn_mask_loss: 0.1980\n",
            "Epoch 11/15\n",
            "240/240 [==============================] - 184s 768ms/step - loss: 0.2447 - rpn_class_loss: 0.0030 - rpn_bbox_loss: 0.0789 - mrcnn_class_loss: 0.0271 - mrcnn_bbox_loss: 0.0345 - mrcnn_mask_loss: 0.1012 - val_loss: 0.7107 - val_rpn_class_loss: 0.0048 - val_rpn_bbox_loss: 0.2358 - val_mrcnn_class_loss: 0.1135 - val_mrcnn_bbox_loss: 0.1452 - val_mrcnn_mask_loss: 0.2113\n",
            "Epoch 12/15\n",
            "240/240 [==============================] - 185s 770ms/step - loss: 0.2160 - rpn_class_loss: 0.0025 - rpn_bbox_loss: 0.0702 - mrcnn_class_loss: 0.0222 - mrcnn_bbox_loss: 0.0287 - mrcnn_mask_loss: 0.0924 - val_loss: 0.7454 - val_rpn_class_loss: 0.0078 - val_rpn_bbox_loss: 0.2604 - val_mrcnn_class_loss: 0.1342 - val_mrcnn_bbox_loss: 0.1227 - val_mrcnn_mask_loss: 0.2203\n",
            "Epoch 13/15\n",
            "240/240 [==============================] - 186s 776ms/step - loss: 0.2027 - rpn_class_loss: 0.0021 - rpn_bbox_loss: 0.0594 - mrcnn_class_loss: 0.0228 - mrcnn_bbox_loss: 0.0270 - mrcnn_mask_loss: 0.0914 - val_loss: 0.7443 - val_rpn_class_loss: 0.0074 - val_rpn_bbox_loss: 0.2365 - val_mrcnn_class_loss: 0.1187 - val_mrcnn_bbox_loss: 0.1438 - val_mrcnn_mask_loss: 0.2379\n",
            "Epoch 14/15\n",
            "240/240 [==============================] - 182s 758ms/step - loss: 0.1879 - rpn_class_loss: 0.0023 - rpn_bbox_loss: 0.0545 - mrcnn_class_loss: 0.0189 - mrcnn_bbox_loss: 0.0250 - mrcnn_mask_loss: 0.0872 - val_loss: 0.7181 - val_rpn_class_loss: 0.0055 - val_rpn_bbox_loss: 0.2779 - val_mrcnn_class_loss: 0.0995 - val_mrcnn_bbox_loss: 0.1183 - val_mrcnn_mask_loss: 0.2169\n",
            "Epoch 15/15\n",
            "240/240 [==============================] - 184s 767ms/step - loss: 0.1852 - rpn_class_loss: 0.0023 - rpn_bbox_loss: 0.0551 - mrcnn_class_loss: 0.0194 - mrcnn_bbox_loss: 0.0240 - mrcnn_mask_loss: 0.0844 - val_loss: 0.9381 - val_rpn_class_loss: 0.0156 - val_rpn_bbox_loss: 0.4103 - val_mrcnn_class_loss: 0.1394 - val_mrcnn_bbox_loss: 0.1393 - val_mrcnn_mask_loss: 0.2336\n"
          ],
          "name": "stdout"
        }
      ]
    },
    {
      "cell_type": "markdown",
      "metadata": {
        "id": "8xCkw9QaN1co",
        "colab_type": "text"
      },
      "source": [
        "## Check the Output"
      ]
    },
    {
      "cell_type": "code",
      "metadata": {
        "id": "ylWm5b7NeZIn",
        "colab_type": "code",
        "outputId": "a69189ff-aad2-4781-ac36-bca9c59ca366",
        "colab": {
          "base_uri": "https://localhost:8080/",
          "height": 66
        }
      },
      "source": [
        "#Check the current directory\n",
        "!ls"
      ],
      "execution_count": 20,
      "outputs": [
        {
          "output_type": "stream",
          "text": [
            "assets\timages\t     maskrcnn_config20200227T1210  README.md\t     setup.cfg\n",
            "build\tLICENSE      mask_rcnn.egg-info\t\t   requirements.txt  setup.py\n",
            "dist\tMANIFEST.in  mrcnn\t\t\t   samples\n"
          ],
          "name": "stdout"
        }
      ]
    },
    {
      "cell_type": "code",
      "metadata": {
        "id": "GrlzT08QKbu_",
        "colab_type": "code",
        "colab": {}
      },
      "source": [
        "#Move to the latest model directory\n",
        "os.chdir('./maskrcnn_config20200227T1210')"
      ],
      "execution_count": 0,
      "outputs": []
    },
    {
      "cell_type": "markdown",
      "metadata": {
        "id": "dTIhonZZVtIU",
        "colab_type": "text"
      },
      "source": [
        "## Save Model Weights and History in Google Drive:"
      ]
    },
    {
      "cell_type": "code",
      "metadata": {
        "id": "knRZdxe1kRzQ",
        "colab_type": "code",
        "outputId": "54414293-ad26-4e05-9506-8b8920d20245",
        "colab": {
          "base_uri": "https://localhost:8080/",
          "height": 293
        }
      },
      "source": [
        "#Find the name of the weights to load\n",
        "#Where the loss goes to nan - can't use these - wont make a prediction!\n",
        "#See this site for how to solve:\n",
        "#https://github.com/matterport/Mask_RCNN/issues/296#issuecomment-507282957\n",
        "!ls -lhrt"
      ],
      "execution_count": 22,
      "outputs": [
        {
          "output_type": "stream",
          "text": [
            "total 3.7G\n",
            "-rw-r--r-- 1 root root 245M Feb 27 12:16 mask_rcnn_maskrcnn_config_0001.h5\n",
            "-rw-r--r-- 1 root root 245M Feb 27 12:18 mask_rcnn_maskrcnn_config_0002.h5\n",
            "-rw-r--r-- 1 root root 245M Feb 27 12:21 mask_rcnn_maskrcnn_config_0003.h5\n",
            "-rw-r--r-- 1 root root 245M Feb 27 12:24 mask_rcnn_maskrcnn_config_0004.h5\n",
            "-rw-r--r-- 1 root root 245M Feb 27 12:27 mask_rcnn_maskrcnn_config_0005.h5\n",
            "-rw-r--r-- 1 root root 245M Feb 27 12:31 mask_rcnn_maskrcnn_config_0006.h5\n",
            "-rw-r--r-- 1 root root 245M Feb 27 12:34 mask_rcnn_maskrcnn_config_0007.h5\n",
            "-rw-r--r-- 1 root root 245M Feb 27 12:37 mask_rcnn_maskrcnn_config_0008.h5\n",
            "-rw-r--r-- 1 root root 245M Feb 27 12:40 mask_rcnn_maskrcnn_config_0009.h5\n",
            "-rw-r--r-- 1 root root 245M Feb 27 12:43 mask_rcnn_maskrcnn_config_0010.h5\n",
            "-rw-r--r-- 1 root root 245M Feb 27 12:46 mask_rcnn_maskrcnn_config_0011.h5\n",
            "-rw-r--r-- 1 root root 245M Feb 27 12:49 mask_rcnn_maskrcnn_config_0012.h5\n",
            "-rw-r--r-- 1 root root 245M Feb 27 12:53 mask_rcnn_maskrcnn_config_0013.h5\n",
            "-rw-r--r-- 1 root root 245M Feb 27 12:56 mask_rcnn_maskrcnn_config_0014.h5\n",
            "-rw-r--r-- 1 root root  37M Feb 27 12:59 events.out.tfevents.1582805436.bfa1df9cd8b5\n",
            "-rw-r--r-- 1 root root 245M Feb 27 12:59 mask_rcnn_maskrcnn_config_0015.h5\n"
          ],
          "name": "stdout"
        }
      ]
    },
    {
      "cell_type": "code",
      "metadata": {
        "id": "sfI0JFoqgDFO",
        "colab_type": "code",
        "colab": {}
      },
      "source": [
        "#now=datetime.datetime.now()\n",
        "#now_str=now.strftime(\"%Y%m%dT%H%M\")\n",
        "\n",
        "#Use the same time as the model run for consistency\n",
        "now_str='20200227T1210'\n",
        "\n",
        "try:\n",
        "  os.makedirs(homedir+'saved')\n",
        "except:\n",
        "  print('Save directory exists!')\n",
        "\n",
        "weights_fname =homedir+'saved/weights_all_melon_'+now_str+'.h5'\n",
        "history_fname =homedir+'saved/history_all_melon_'+now_str+'.json'\n",
        "\n",
        "model.keras_model.save_weights(weights_fname)\n",
        "\n",
        "with open(history_fname,\"w\") as f:\n",
        "   f.write(json.dumps(history))"
      ],
      "execution_count": 0,
      "outputs": []
    },
    {
      "cell_type": "code",
      "metadata": {
        "id": "BRSikLbpQFBl",
        "colab_type": "code",
        "colab": {}
      },
      "source": [
        ""
      ],
      "execution_count": 0,
      "outputs": []
    }
  ]
}